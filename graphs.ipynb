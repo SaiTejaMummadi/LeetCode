{
  "nbformat": 4,
  "nbformat_minor": 0,
  "metadata": {
    "colab": {
      "provenance": []
    },
    "kernelspec": {
      "name": "python3",
      "display_name": "Python 3"
    },
    "language_info": {
      "name": "python"
    }
  },
  "cells": [
    {
      "cell_type": "code",
      "execution_count": null,
      "metadata": {
        "id": "TrKmm_VzKlsa"
      },
      "outputs": [],
      "source": [
        "# 03.26.2025"
      ]
    },
    {
      "cell_type": "code",
      "source": [
        "# Graph\n",
        "# 1. Directed\n",
        "# 2. Undirected\n",
        "# Nodes, Edges\n",
        "# Cycles\n",
        "\n",
        "# Node cannot appear twice in a path\n",
        "# Cannot be a path without an edge\n",
        "# Degrees in graph: number of edges attached to a node\n",
        "# Property states that total degree of graph = twice as edges\n",
        "\n",
        "# Directed GRaph:\n",
        "# In degree = number of incoming edges\n",
        "# Out degree = num of outgoing edges\n",
        "\n",
        "# Edge Weight"
      ],
      "metadata": {
        "id": "lai1QMroKqg3"
      },
      "execution_count": null,
      "outputs": []
    },
    {
      "cell_type": "code",
      "source": [
        "\n",
        "# Input is given like\n",
        "# Node Edges\n",
        "# 3 4 (Input starts here, this means, 3 nodes, 4 edges)\n",
        "# 1 2\n",
        "# 1 3\n",
        "# 1 1\n",
        "# 2 3\n",
        "\n",
        "# #How to store:\n",
        "# 1. Store in matrix\n",
        "\n",
        "# [\n",
        "#     [1,1,1],\n",
        "#     [1,0,1],\n",
        "#     [1,1,0]\n",
        "# ]\n",
        "\n",
        "\n",
        "# 2. Adjacency list\n",
        "\n",
        "# Array of n+1 Size\n",
        "\n",
        "# 1 -> [1,2,3]\n",
        "# 2 -> [1,3]\n",
        "# 3 -> [1,2]\n",
        "\n",
        "# #How to store weights\n",
        "# 1. Store in matrix\n",
        "\n",
        "# [\n",
        "#     [2,3,2],\n",
        "#     [1,0,1],\n",
        "#     [1,1,0]\n",
        "# ]\n",
        "\n",
        "# 2. Adjacency list\n",
        "\n",
        "# Array of n+1 Size\n",
        "\n",
        "# 1 -> [(1,1),(2,6),(3,3)]\n",
        "# 2 -> [1,3]\n",
        "# 3 -> [1,2]"
      ],
      "metadata": {
        "id": "TpV7SkMcK_h8"
      },
      "execution_count": null,
      "outputs": []
    },
    {
      "cell_type": "code",
      "source": [],
      "metadata": {
        "id": "shGOSacvTRSB"
      },
      "execution_count": null,
      "outputs": []
    },
    {
      "cell_type": "code",
      "source": [
        "# Breadth First Search Traversal\n",
        "\n",
        "#create a queue (FIFO)\n",
        "#Take a node, put the node as visited in visited matrix\n",
        "#Go to all children, push to queue, mark as visited\n",
        "#pop each child, check for children (repeat)\n",
        "\n",
        "total_nodes = 7\n",
        "#starts with 0\n",
        "adj = [[1, 2], [0, 2], [0, 1, 4], [1, 4], [2, 3, 5], [4, 6], [5]]\n",
        "\n",
        "total_nodes = 9\n",
        "adj = [[1, 7], [0, 2, 6], [1, 3], [7], [6], [6], [1, 4, 5], [0, 3, 8], [7]]\n",
        "\n",
        "\n",
        "def bfs(total_nodes, adj):\n",
        "    visited = [0 for i in range(total_nodes)]\n",
        "    queue = []\n",
        "    bfs_traversal = []\n",
        "    bfs_traversal.append(0)\n",
        "    queue.append(0)\n",
        "    visited[0] = 1\n",
        "    while(True):\n",
        "        if queue:\n",
        "            focused = queue.pop(0)\n",
        "            children = adj[focused]\n",
        "            for child in children:\n",
        "                if visited[child] != 1:\n",
        "                    bfs_traversal.append(child)\n",
        "                    queue.append(child)\n",
        "                    visited[child] = 1\n",
        "        else:\n",
        "            break\n",
        "    print(bfs_traversal)\n",
        "bfs(total_nodes,adj)\n",
        "\n"
      ],
      "metadata": {
        "colab": {
          "base_uri": "https://localhost:8080/"
        },
        "id": "hLPGNHOdS8tC",
        "outputId": "836121a5-d2ea-4415-e7ee-11bbc57a2df4"
      },
      "execution_count": null,
      "outputs": [
        {
          "output_type": "stream",
          "name": "stdout",
          "text": [
            "[0, 1, 7, 2, 6, 3, 8, 4, 5]\n"
          ]
        }
      ]
    },
    {
      "cell_type": "markdown",
      "source": [
        "![image.png](data:image/png;base64,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)"
      ],
      "metadata": {
        "id": "tIEB1_cBXJPC"
      }
    },
    {
      "cell_type": "code",
      "source": [
        "total_nodes = 9\n",
        "adj = [[1, 7], [0, 2, 6], [1, 3], [7], [6], [6], [1, 4, 5], [0, 3, 8], [7]]\n",
        "\n",
        "#Index starts with 0,\n",
        "\n",
        "vis = [-1 for i in range(total_nodes)]\n",
        "dfs_traversal = []\n",
        "start = 0\n",
        "# vis[0] = 1\n",
        "# dfs_traversal.append(start)\n",
        "\n",
        "def dfs(vis, start, dfs_traversal, adj):\n",
        "    vis[start] = 1\n",
        "    dfs_traversal.append(start)\n",
        "    #Operations\n",
        "    for child in adj[start]:\n",
        "        if vis[child] == -1:\n",
        "            dfs(vis, child, dfs_traversal,adj)\n",
        "\n",
        "dfs(vis, start, dfs_traversal, adj)\n",
        "print(dfs_traversal)\n",
        "\n",
        "\n"
      ],
      "metadata": {
        "id": "XduhW688WjlW",
        "colab": {
          "base_uri": "https://localhost:8080/"
        },
        "outputId": "2bcfc81f-b0f0-49e7-f210-c3acc6de63d4"
      },
      "execution_count": null,
      "outputs": [
        {
          "output_type": "stream",
          "name": "stdout",
          "text": [
            "[0, 1, 2, 3, 7, 8, 6, 4, 5]\n"
          ]
        }
      ]
    },
    {
      "cell_type": "markdown",
      "source": [
        "![image.png](data:image/png;base64,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)"
      ],
      "metadata": {
        "id": "97pKMLsJTuJQ"
      }
    },
    {
      "cell_type": "code",
      "source": [
        "# Number of provinces\n",
        "total_nodes = 7\n",
        "#starts with 0\n",
        "adj = [[1, 2], [0, 2], [0, 1], [4], [3], [6], [5]]\n",
        "\n",
        "visited = [-1 for i in range(total_nodes)]\n",
        "\n",
        "\n",
        "def dfs(node, visited,adj, province_count):\n",
        "    visited[node] = 1\n",
        "    province_count += 1\n",
        "    for child in adj[node]:\n",
        "        visited[child] = 1\n",
        "    return province_count\n",
        "\n",
        "def findprovinces(total_nodes, adj,visited):\n",
        "    province_count = 0\n",
        "    for i in range(total_nodes):\n",
        "        if visited[i] == -1:\n",
        "            province_count = dfs(i, visited,adj,province_count)\n",
        "    return province_count\n",
        "\n",
        "findprovinces(total_nodes,adj,visited)\n"
      ],
      "metadata": {
        "id": "cCyvWymX_MCN",
        "colab": {
          "base_uri": "https://localhost:8080/"
        },
        "outputId": "78dc8bbd-2868-403f-f03c-08da2440021a"
      },
      "execution_count": null,
      "outputs": [
        {
          "output_type": "execute_result",
          "data": {
            "text/plain": [
              "3"
            ]
          },
          "metadata": {},
          "execution_count": 5
        }
      ]
    },
    {
      "cell_type": "code",
      "source": [
        "# Number of Islands\n",
        "# 0, 0, 1, 1, 0, 0, 0,\n",
        "# 0, 0, 1, 1, 1, 0, 0,\n",
        "# 0, 0, 0, 0, 1, 0, 0,\n",
        "# 0, 1, 0, 0, 0, 0, 1,\n",
        "# 0, 1, 1, 0, 0, 1, 1,\n",
        "# 0, 1, 0, 0, 0, 1, 1,\n",
        "# 0, 0, 0, 1, 0, 1, 1,\n"
      ],
      "metadata": {
        "id": "8WUBT25QF1Oa"
      },
      "execution_count": null,
      "outputs": []
    },
    {
      "cell_type": "code",
      "source": [
        "# Solution is to loop through all the positions of the matrix\n",
        "# If you find a land, do a dfs/bfs on the land\n",
        "# Continue the loop\n",
        "\n",
        "mymap = [\n",
        "\n",
        "[0, 0, 1, 1, 0, 0, 0],\n",
        "[0, 0, 1, 1, 1, 0, 1],\n",
        "[0, 0, 0, 0, 1, 0, 1],\n",
        "[0, 1, 0, 0, 0, 0, 1],\n",
        "[0, 1, 1, 0, 0, 1, 1],\n",
        "[0, 1, 1, 0, 0, 1, 1],\n",
        "[0, 0, 0, 1, 1, 1, 1],\n",
        "\n",
        "]\n",
        "rows = len(mymap)\n",
        "cols = len(mymap[0])\n",
        "visited = [[-1 for i in range(cols)] for i in range(rows)]\n",
        "\n",
        "def dfs(row,col,mymap, visited):\n",
        "    visited[row][col] = 1\n",
        "    #check and perform search for the neighbors\n",
        "    for i in range(-1,2):\n",
        "        for j in range(-1,2):\n",
        "            new_row = row + i\n",
        "            new_col = col + j\n",
        "            if(new_row >= 0 and new_row < len(mymap[0]) and new_col >= 0 and new_col < len(mymap[0])\n",
        "            and visited[new_row][new_col] == -1 and mymap[new_row][new_col] == 1 ):\n",
        "               dfs(new_row, new_col,mymap,visited)\n",
        "    return\n",
        "\n",
        "\n",
        "def find_islands(mymap):\n",
        "    rows = len(mymap)\n",
        "    cols = len(mymap[0])\n",
        "\n",
        "    #Create visited\n",
        "    count = 0\n",
        "\n",
        "    for row in range(rows):\n",
        "        for col in range(cols):\n",
        "            if(mymap[row][col] == 1 and visited[row][col] == -1 ):\n",
        "                count += 1\n",
        "                dfs(row,col,mymap,visited)\n",
        "\n",
        "    return count\n",
        "find_islands(mymap)"
      ],
      "metadata": {
        "colab": {
          "base_uri": "https://localhost:8080/"
        },
        "id": "6BQVr9ROGbxR",
        "outputId": "f153e407-cbd3-46ee-df56-3eb52f4cc235"
      },
      "execution_count": null,
      "outputs": [
        {
          "output_type": "execute_result",
          "data": {
            "text/plain": [
              "2"
            ]
          },
          "metadata": {},
          "execution_count": 10
        }
      ]
    },
    {
      "cell_type": "code",
      "source": [
        "visited"
      ],
      "metadata": {
        "colab": {
          "base_uri": "https://localhost:8080/"
        },
        "id": "Rz4ADHDdGvTX",
        "outputId": "6979dffe-d1f5-472e-ffb4-919cf5a2105a"
      },
      "execution_count": null,
      "outputs": [
        {
          "output_type": "execute_result",
          "data": {
            "text/plain": [
              "[[-1, -1, 1, 1, -1, -1, -1],\n",
              " [-1, -1, 1, 1, 1, -1, 1],\n",
              " [-1, -1, -1, -1, 1, -1, 1],\n",
              " [-1, 1, -1, -1, -1, -1, 1],\n",
              " [-1, 1, 1, -1, -1, 1, 1],\n",
              " [-1, 1, 1, -1, -1, 1, 1],\n",
              " [-1, -1, -1, 1, 1, 1, 1]]"
            ]
          },
          "metadata": {},
          "execution_count": 9
        }
      ]
    },
    {
      "cell_type": "code",
      "source": [
        "#Flood fill algorithm\n",
        "[[1,1,0],\n",
        " [1,0,0],\n",
        " [1,1,1],\n",
        " ]\n",
        "\n",
        " [[1,1,0,2],\n",
        " [1,0,0,1],\n",
        " [1,1,1,2],\n",
        " [1,2,1,0]\n",
        " ]\n",
        "\n",
        " #Starting point is given in this array\n",
        " #Find the best location to fill the array with new color as it changes colors\n"
      ],
      "metadata": {
        "colab": {
          "base_uri": "https://localhost:8080/"
        },
        "id": "fUkk-JMiOgVo",
        "outputId": "d604fce7-fa5a-4435-d853-27df7e117803"
      },
      "execution_count": null,
      "outputs": [
        {
          "output_type": "execute_result",
          "data": {
            "text/plain": [
              "[[1, 1, 0], [1, 0, 0], [1, 1, 1]]"
            ]
          },
          "metadata": {},
          "execution_count": 13
        }
      ]
    },
    {
      "cell_type": "code",
      "source": [
        "#A straight forward way to solve is do a search from the given starting node\n",
        "#mark all the same level items connected to this up, down, left, right as the new color\n",
        "\n",
        "floodmap = [[1,1,0,2],\n",
        "            [1,0,0,1],\n",
        "            [1,1,1,2],\n",
        "            [1,2,1,0]]\n",
        "srow = 1\n",
        "scol = 0\n",
        "newcolor = 9\n",
        "\n",
        "def search(floodmap,oldcolor,newcolor,srow,scol,visited):\n",
        "    visited[srow][scol] = 1\n",
        "    if floodmap[srow][scol] == oldcolor:\n",
        "        floodmap[srow][scol] = newcolor\n",
        "        #four directions\n",
        "        directions = [[-1,0],[1,0],[0,-1],[0,1]]\n",
        "        for direction in directions:\n",
        "                newrow = srow + direction[0]\n",
        "                newcol = scol + direction[1]\n",
        "                if (newrow>=0 and newcol >=0 and newrow < len(floodmap)\n",
        "                    and newcol < len(floodmap[0]) and floodmap[newrow][newcol] == oldcolor and visited[newrow][newcol] == -1):\n",
        "                    search(floodmap,oldcolor,newcolor,newrow,newcol,visited)\n",
        "\n",
        "\n",
        "def floodfill(floodmap, srow, scol, newcolor):\n",
        "    rows = len(floodmap)\n",
        "    cols = len(floodmap[0])\n",
        "\n",
        "    visited = [[-1 for i in range(cols)] for i in range(rows)]\n",
        "    oldcolor = floodmap[srow][scol]\n",
        "\n",
        "    search(floodmap,oldcolor,newcolor,srow,scol,visited)\n",
        "\n",
        "floodfill(floodmap, srow, scol, newcolor)\n",
        "for i in floodmap:\n",
        "    print(i)\n",
        "\n",
        "#We implemented DFS in this\n",
        "\n",
        "# A simple thumb rule for DFS and BFS\n",
        "# BFS relies on external Queues to know which node it has to work on next\n",
        "# DFS relies on the recursion, we go the bottom of the stack and finish processing recursively in Top Down fashion\n"
      ],
      "metadata": {
        "colab": {
          "base_uri": "https://localhost:8080/"
        },
        "id": "iH28A5A9SgvY",
        "outputId": "3a1f0018-351e-4eca-8785-8db2d4a30df8"
      },
      "execution_count": null,
      "outputs": [
        {
          "output_type": "stream",
          "name": "stdout",
          "text": [
            "[9, 9, 0, 2]\n",
            "[9, 0, 0, 1]\n",
            "[9, 9, 9, 2]\n",
            "[9, 2, 9, 0]\n"
          ]
        }
      ]
    },
    {
      "cell_type": "code",
      "source": [
        "#Rotten oranges\n",
        "orangemap = [[0,1,0],\n",
        "            [1,0,2],\n",
        "            [1,1,2]\n",
        "             ]\n",
        "#Find the time it takes to rot all the oranges if possible\n",
        "#Oranges can rot in up, down, left, right fashion\n",
        "#One orange can rot 4 oranges at max in unit of time\n",
        "\n",
        "#Solution is to use a BFS approach as we rot all the neighboring elements at once\n",
        "\n",
        "def orange_rot(orangemap):\n",
        "    nrow = len(orangemap)\n",
        "    ncol = len(orangemap)\n",
        "\n",
        "    mastertime = 0\n",
        "    queue = []\n",
        "    visited = [[-1 for i in range(ncol)] for i in range(nrow)]\n",
        "    #finding all the rotten oranges and updating in the queue\n",
        "    for row in range(nrow):\n",
        "        for col in range(ncol):\n",
        "            if orangemap[row][col] == 2:\n",
        "                visited[row][col] = 1\n",
        "                queue.append((row,col,mastertime))\n",
        "\n",
        "    while queue:\n",
        "        item = queue.pop(0)\n",
        "        row = item[0]\n",
        "        col = item[1]\n",
        "        oldtime = item[2]\n",
        "        #Check four directions\n",
        "        directions = [[-1,0],[0,-1],[0,1],[1,0]]\n",
        "        for direction in directions:\n",
        "            newrow = row + direction[0]\n",
        "            newcol = col + direction[1]\n",
        "            if(newrow>=0 and newcol>=0 and newrow <len(orangemap)\n",
        "            and newcol < len(orangemap[0])\n",
        "            and visited[newrow][newcol]==-1\n",
        "            and orangemap[newrow][newcol]==1):\n",
        "                visited[newrow][newcol] = 1\n",
        "                mastertime = max(oldtime + 1,mastertime)\n",
        "                queue.append((newrow,newcol,oldtime+1))\n",
        "    return mastertime\n",
        "\n",
        "orange_rot(orangemap)\n"
      ],
      "metadata": {
        "colab": {
          "base_uri": "https://localhost:8080/"
        },
        "id": "pn7X37CTThVM",
        "outputId": "aa868e37-2d3d-47d0-d612-138d71081536"
      },
      "execution_count": null,
      "outputs": [
        {
          "output_type": "execute_result",
          "data": {
            "text/plain": [
              "3"
            ]
          },
          "metadata": {},
          "execution_count": 26
        }
      ]
    },
    {
      "cell_type": "markdown",
      "source": [
        "![image.png](data:image/png;base64,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)"
      ],
      "metadata": {
        "id": "3JWP4GqNgr0p"
      }
    },
    {
      "cell_type": "code",
      "source": [
        "# # Check for cycle in graph\n",
        "total_nodes = 7\n",
        "# #starts with 0\n",
        "adj = [[1, 2], [0, 3], [0, 4], [1], [2, 5], [4, 6], [5]]\n",
        "\n",
        "total_nodes = 9\n",
        "adj = [[1, 7], [0, 2, 6], [1, 3], [7], [6], [6], [1, 4, 5], [0, 3, 8], [7]]\n",
        "\n",
        "\n",
        "#Solution is to apply BFS and using visited array to\n",
        "# check if we touched this node previously or not\n",
        "\n",
        "\n",
        "def checkcycle(adj,total_nodes):\n",
        "    start_node = 0\n",
        "    visited = [-1 for i in range(total_nodes)]\n",
        "\n",
        "    visited[start_node] = 1\n",
        "    queue = []\n",
        "    queue.append((start_node,-1))\n",
        "\n",
        "    while(queue):\n",
        "        node,parent = queue.pop(0)\n",
        "        for child in adj[node]:\n",
        "            if visited[child] == -1:\n",
        "                visited[child] = 1\n",
        "                queue.append((child,node))\n",
        "\n",
        "            elif visited[child] == 1 and child != parent:\n",
        "                return \"There is a cycle\"\n",
        "    return \"There is no cycle\"\n",
        "\n",
        "\n",
        "checkcycle(adj,total_nodes)\n",
        "\n",
        "#This solution is wrong\n",
        "#Need to implement check cycle with DFS and BFS\n",
        "\n",
        "total_nodes = 7\n",
        "# #starts with 0\n",
        "adj = [[1, 2], [0, 3], [0, 4], [1], [2, 5], [4, 6], [5]]\n",
        "\n",
        "#Implementing check cycle with BFS\n",
        "\n",
        "def checkcycle(adj,total_nodes):\n",
        "    #start from the start node\n",
        "    #In BFS we use Queue Data Structure\n",
        "    #To find if it has a cycle we also need to store parents in the queue\n",
        "    start = 0\n",
        "    visited = [-1 for i in range(total_nodes)]\n",
        "    queue = []\n",
        "    visited[0] = 1\n",
        "    queue.append((0,-1))\n",
        "    while queue:\n",
        "        current_node, previous = queue.pop(0)\n",
        "        children = adj[current_node]\n",
        "        for child in children:\n",
        "            if visited[child] == 1 and child != previous:\n",
        "                return \"There is a Cycle\"\n",
        "            else:\n",
        "                visited[child] = 1\n",
        "                queue.append((child,current_node))\n",
        "    return \"There is no cycle\"\n"
      ],
      "metadata": {
        "colab": {
          "base_uri": "https://localhost:8080/",
          "height": 35
        },
        "id": "UacfQ9Zbc_KK",
        "outputId": "a12557c0-6c78-4e63-8063-3ad9a02b72f3"
      },
      "execution_count": null,
      "outputs": [
        {
          "output_type": "execute_result",
          "data": {
            "text/plain": [
              "'There is a cycle'"
            ],
            "application/vnd.google.colaboratory.intrinsic+json": {
              "type": "string"
            }
          },
          "metadata": {},
          "execution_count": 8
        }
      ]
    },
    {
      "cell_type": "code",
      "source": [
        "#There is no cycle\n",
        "total_nodes = 7\n",
        "# #starts with 0\n",
        "adj = [[1, 2], [0, 3], [0, 4], [1], [2, 5], [4, 6], [5]]\n",
        "\n",
        "\n",
        "#There is a cycle\n",
        "total_nodes = 7\n",
        "# #starts with 0\n",
        "adj = [[1, 2], [0, 3], [0, 4], [1,4], [2,3, 5], [4, 6], [5]]\n",
        "\n",
        "\n",
        "\n",
        "#Implementing check cycle with BFS\n",
        "\n",
        "def checkcycle(adj,total_nodes):\n",
        "    #start from the start node\n",
        "    #In BFS we use Queue Data Structure\n",
        "    #To find if it has a cycle we also need to store parents in the queue\n",
        "    start = 0\n",
        "    visited = [-1 for i in range(total_nodes)]\n",
        "    queue = []\n",
        "    visited[0] = 1\n",
        "    queue.append((0,-1))\n",
        "    while queue:\n",
        "        current_node, previous = queue.pop(0)\n",
        "        children = adj[current_node]\n",
        "        for child in children:\n",
        "            if child != previous and visited[child] == 1:\n",
        "                return \"There is a Cycle\"\n",
        "            else:\n",
        "                if child != previous:\n",
        "                    visited[child] = 1\n",
        "                    queue.append((child,current_node))\n",
        "    return \"There is no cycle\"\n",
        "checkcycle(adj,total_nodes)"
      ],
      "metadata": {
        "colab": {
          "base_uri": "https://localhost:8080/",
          "height": 35
        },
        "id": "1NqBwGq0ires",
        "outputId": "d21607ef-22ae-4a75-86a5-0ceed5feace2"
      },
      "execution_count": null,
      "outputs": [
        {
          "output_type": "execute_result",
          "data": {
            "text/plain": [
              "'There is a Cycle'"
            ],
            "application/vnd.google.colaboratory.intrinsic+json": {
              "type": "string"
            }
          },
          "metadata": {},
          "execution_count": 8
        }
      ]
    },
    {
      "cell_type": "code",
      "source": [
        "\n",
        "def dfs(visited,parent,adj):\n",
        "    children = adj[parent]\n",
        "    for child in children:\n",
        "        if visited[child] != 1 and\n",
        "\n",
        "\n",
        "#Implementing check cycle with DFS\n",
        "def checkcycle(adj,total_nodes):\n",
        "    #In DFS we use recursion to go the depths of the graph\n",
        "    #At each level we could check if we have visited that location\n",
        "\n",
        "    visited = [-1 for i in range(total_nodes)]\n",
        "    start_node = 0\n",
        "    visited[start_node] = 1\n",
        "    dfs(visited,start_node,adj)\n",
        "\n",
        "\n",
        "#Not working\n"
      ],
      "metadata": {
        "id": "ASIfFu_M96sy"
      },
      "execution_count": null,
      "outputs": []
    },
    {
      "cell_type": "code",
      "source": [
        "# Checking for nearest 1 in a grid\n",
        "input = [[1,0,0],\n",
        " [0,1,0],\n",
        " [1,0,1]]\n",
        "\n",
        "\n",
        "# Now for this input we need to find the nearest 1\n",
        "# for all zeros with the help of a distance matrix\n",
        "\n",
        "\n",
        "\n"
      ],
      "metadata": {
        "id": "of4B0YH5jVwm"
      },
      "execution_count": null,
      "outputs": []
    }
  ]
}