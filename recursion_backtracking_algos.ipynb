{
  "nbformat": 4,
  "nbformat_minor": 0,
  "metadata": {
    "colab": {
      "provenance": []
    },
    "kernelspec": {
      "name": "python3",
      "display_name": "Python 3"
    },
    "language_info": {
      "name": "python"
    }
  },
  "cells": [
    {
      "cell_type": "code",
      "execution_count": null,
      "metadata": {
        "colab": {
          "base_uri": "https://localhost:8080/"
        },
        "id": "Hze5HoTRQAZM",
        "outputId": "c052dda3-5d98-4be7-9f82-cd85b3109532"
      },
      "outputs": [
        {
          "output_type": "stream",
          "name": "stdout",
          "text": [
            "\n",
            "\n",
            "*  \n",
            "\n",
            "*  *  \n",
            "\n",
            "*  *  *  \n",
            "\n",
            "*  *  *  *  "
          ]
        }
      ],
      "source": [
        "def tri(row, col):\n",
        "    if(row == 4):\n",
        "        return\n",
        "    elif(col>=4-row):\n",
        "        tri(row+1, 0)\n",
        "        print(\"\\n\")\n",
        "\n",
        "    else:\n",
        "        tri(row, col+1)\n",
        "        print(\"* \",end=\" \")\n",
        "\n",
        "tri(0,0)\n"
      ]
    },
    {
      "cell_type": "code",
      "source": [
        "def tri(row, col):\n",
        "    if row ==4:\n",
        "        return\n",
        "    elif(col > row):\n",
        "        print(\"\\n\")\n",
        "        tri(row+1, 0)\n",
        "    else:\n",
        "        print(\"* \", end = \" \")\n",
        "        tri(row,col+1)\n",
        "tri(0,0)"
      ],
      "metadata": {
        "colab": {
          "base_uri": "https://localhost:8080/"
        },
        "id": "RcgbukdGamQt",
        "outputId": "a9e54716-75eb-484f-8180-dbb43e7b6b84"
      },
      "execution_count": null,
      "outputs": [
        {
          "output_type": "stream",
          "name": "stdout",
          "text": [
            "*  \n",
            "\n",
            "*  *  \n",
            "\n",
            "*  *  *  \n",
            "\n",
            "*  *  *  *  \n",
            "\n"
          ]
        }
      ]
    },
    {
      "cell_type": "code",
      "source": [],
      "metadata": {
        "id": "m6Vt406xvulf"
      },
      "execution_count": null,
      "outputs": []
    },
    {
      "cell_type": "code",
      "source": [
        "#Bubble Sort\n",
        "\n",
        "\n",
        "arr = [5,4,1,2]\n",
        "def bsort(arr, index, end):\n",
        "    if(end < 0):\n",
        "        return arr\n",
        "    elif(index >= end):\n",
        "        return bsort(arr, 0, end -1)\n",
        "    else:\n",
        "        current = arr[index]\n",
        "        next = arr[index +1]\n",
        "        if current > next:\n",
        "            temp = current\n",
        "            arr[index] = next\n",
        "            arr[index+1] = temp\n",
        "            return bsort(arr, index+1, end)\n",
        "print(bsort(arr,0,3))"
      ],
      "metadata": {
        "colab": {
          "base_uri": "https://localhost:8080/"
        },
        "id": "DmYJEU-Nulok",
        "outputId": "2801fd7a-db2e-4423-abcd-ade271029c17"
      },
      "execution_count": null,
      "outputs": [
        {
          "output_type": "stream",
          "name": "stdout",
          "text": [
            "None\n"
          ]
        }
      ]
    },
    {
      "cell_type": "code",
      "source": [
        "print(arr)"
      ],
      "metadata": {
        "colab": {
          "base_uri": "https://localhost:8080/"
        },
        "id": "SMxaNrAxvYn2",
        "outputId": "e2cb0bc5-d924-4df5-fcae-f20bdd16ffb7"
      },
      "execution_count": null,
      "outputs": [
        {
          "output_type": "stream",
          "name": "stdout",
          "text": [
            "[1, 2, 4, 5]\n"
          ]
        }
      ]
    },
    {
      "cell_type": "code",
      "source": [
        "#Selection Sort\n",
        "arr = [8,6,4,3,2]\n",
        "\n",
        "def ssort(arr, max, index, end):\n",
        "    if(end < 0):\n",
        "        return\n",
        "    elif(index >= end -1):\n",
        "        temp = arr[end]\n",
        "        arr[end] = arr[max]\n",
        "        arr[max] = temp\n",
        "        ssort(arr,0,0,end-1)\n",
        "    elif(arr[max]<arr[index]):\n",
        "        max = index\n",
        "        ssort(arr,max, index+1, end)\n",
        "    else:\n",
        "        ssort(arr, max, index+1, end)\n",
        "ssort(arr,0,0,4)\n",
        "print(arr)"
      ],
      "metadata": {
        "colab": {
          "base_uri": "https://localhost:8080/"
        },
        "id": "3r_lOmB31n_X",
        "outputId": "30e4359a-1d2b-46e5-d492-edb337326cf2"
      },
      "execution_count": null,
      "outputs": [
        {
          "output_type": "stream",
          "name": "stdout",
          "text": [
            "[8, 6, 4, 5, 7]\n"
          ]
        }
      ]
    },
    {
      "cell_type": "code",
      "source": [
        "arr = [7,6,5,4,3,2,7,9,8,7,6,5,0]\n",
        "print(arr)\n",
        "def ssort(arr, max, index, end):\n",
        "    if(end < 0):\n",
        "        return\n",
        "    if(index>end):\n",
        "        temp = arr[max]\n",
        "        arr[max] = arr[end]\n",
        "        arr[end] = temp\n",
        "        # print(arr)\n",
        "        ssort(arr, 0, 0, end-1)\n",
        "    elif(index<=end):\n",
        "        if(arr[max]<arr[index]):\n",
        "            max = index\n",
        "            ssort(arr, max, index+1, end)\n",
        "        else:\n",
        "            ssort(arr, max, index+1, end)\n",
        "ssort(arr, 0, 0, len(arr)-1)\n",
        "print(arr)"
      ],
      "metadata": {
        "colab": {
          "base_uri": "https://localhost:8080/"
        },
        "id": "MM7Vx-8p2grV",
        "outputId": "97a03149-0f03-4323-e549-5e4408cc662d"
      },
      "execution_count": null,
      "outputs": [
        {
          "output_type": "stream",
          "name": "stdout",
          "text": [
            "[7, 6, 5, 4, 3, 2, 7, 9, 8, 7, 6, 5, 0]\n",
            "[0, 2, 3, 4, 5, 5, 6, 6, 7, 7, 7, 8, 9]\n"
          ]
        }
      ]
    },
    {
      "cell_type": "code",
      "source": [
        "arr = [7, 6, 5, 4, 3, 2, 7, 9, 8, 7, 6, 5, 0]\n",
        "\n",
        "def msort(arr, start, end):\n",
        "    if(start >= end):\n",
        "        return arr\n",
        "    mid = int((start+end)/2)\n",
        "    left = arr[:mid+1].copy()\n",
        "    # print(left)\n",
        "    right = arr[mid+1:].copy()\n",
        "    # print(right)\n",
        "    leftsorted = msort(left, 0, len(left)-1)\n",
        "    rightsorted = msort(right, 0, len(right)-1)\n",
        "    newarr = []\n",
        "    i = j = 0\n",
        "    while i <= len(leftsorted)-1 and j <= len(rightsorted)-1:\n",
        "        if(leftsorted[i]<rightsorted[j]):\n",
        "            newarr.append(leftsorted[i])\n",
        "            # print(newarr)\n",
        "            i +=1\n",
        "        else:\n",
        "            newarr.append(rightsorted[j])\n",
        "            # print(newarr)\n",
        "            j += 1\n",
        "    while i <= len(leftsorted)-1:\n",
        "        newarr.append(leftsorted[i])\n",
        "        i +=1\n",
        "    while j <= len(rightsorted)-1:\n",
        "        newarr.append(rightsorted[j])\n",
        "        j += 1\n",
        "    return newarr\n",
        "\n",
        "\n",
        "arr = msort(arr,0,len(arr)-1)\n",
        "print(arr)"
      ],
      "metadata": {
        "colab": {
          "base_uri": "https://localhost:8080/"
        },
        "id": "HQPQ7CnM13u5",
        "outputId": "5e36d19c-780b-40b7-faa8-9d82776f3c1e"
      },
      "execution_count": null,
      "outputs": [
        {
          "output_type": "stream",
          "name": "stdout",
          "text": [
            "right\n",
            "left\n",
            "left\n",
            "right\n",
            "left\n",
            "right\n",
            "right\n",
            "[4, 5, 7, 7, 7, 8]\n"
          ]
        }
      ]
    },
    {
      "cell_type": "code",
      "source": [
        "arr = [7, 6, 5, 4, 3, 2, 7, 9, 8, 7, 6, 5, 0]\n",
        "def msortinplace(arr, start, end):\n",
        "    if(start>= end):\n",
        "        return arr\n",
        "    mid = int((start+end)/2)\n",
        "    leftsorted = msortinplace(arr,start, mid)\n",
        "    rightsorted = msortinplace(arr, mid+1, end)\n",
        "    i = start\n",
        "    j = mid+1\n",
        "    k = start\n",
        "    while i< mid +1 and j <= end:\n",
        "        if(leftsorted[i]<rightsorted[j]):\n",
        "            arr[k] = leftsorted[i]\n",
        "            k +=1\n",
        "            i +=1\n",
        "        else:\n",
        "            arr[k] = rightsorted[j]\n",
        "            k +=1\n",
        "            j +=1\n",
        "\n",
        "    while i < mid +1:\n",
        "        arr[k] = leftsorted[i]\n",
        "        k +=1\n",
        "        i +=1\n",
        "    while j <= end:\n",
        "        arr[k] = rightsorted[j]\n",
        "        k +=1\n",
        "        j +=1\n",
        "    return arr\n",
        "\n",
        "msortinplace(arr, 0, len(arr)-1)\n",
        "print(arr)"
      ],
      "metadata": {
        "colab": {
          "base_uri": "https://localhost:8080/"
        },
        "id": "l8CncEnF7hE4",
        "outputId": "98862447-cea0-460b-963e-ed8c5864f3b9"
      },
      "execution_count": null,
      "outputs": [
        {
          "output_type": "stream",
          "name": "stdout",
          "text": [
            "[0, 0, 0, 0, 0, 0, 0, 0, 0, 0, 0, 0, 0]\n"
          ]
        }
      ]
    },
    {
      "cell_type": "code",
      "source": [
        "arr = [7, 6, 5, 4, 3]\n",
        "\n",
        "def qsort(arr, start, end):\n",
        "    mid = int((start + end)/2)\n",
        "    pivot = arr[mid]\n",
        "    while(start <= end):\n",
        "        while(arr[start]<=pivot):\n",
        "            start += 1\n",
        "        while(arr[end]>=pivot):\n",
        "            end -= 1\n",
        "        if(start<=end):\n",
        "            temp = arr[end]\n",
        "            arr[end]=arr[start]\n",
        "            arr[start] = temp\n",
        "    qsort(arr, start, mid-1)\n",
        "    qsort(arr, mid+1, end)\n",
        "\n",
        "qsort(arr, 0, len(arr)-1)\n",
        "print(arr)\n"
      ],
      "metadata": {
        "colab": {
          "base_uri": "https://localhost:8080/",
          "height": 373
        },
        "id": "7S9Uem2bCjsw",
        "outputId": "d5e1d3e5-5e51-45aa-cace-53283e42b7f9"
      },
      "execution_count": null,
      "outputs": [
        {
          "output_type": "error",
          "ename": "RecursionError",
          "evalue": "maximum recursion depth exceeded while calling a Python object",
          "traceback": [
            "\u001b[0;31m---------------------------------------------------------------------------\u001b[0m",
            "\u001b[0;31mRecursionError\u001b[0m                            Traceback (most recent call last)",
            "\u001b[0;32m<ipython-input-1-642ba0dccb5b>\u001b[0m in \u001b[0;36m<cell line: 0>\u001b[0;34m()\u001b[0m\n\u001b[1;32m     16\u001b[0m     \u001b[0mqsort\u001b[0m\u001b[0;34m(\u001b[0m\u001b[0marr\u001b[0m\u001b[0;34m,\u001b[0m \u001b[0mmid\u001b[0m\u001b[0;34m+\u001b[0m\u001b[0;36m1\u001b[0m\u001b[0;34m,\u001b[0m \u001b[0mend\u001b[0m\u001b[0;34m)\u001b[0m\u001b[0;34m\u001b[0m\u001b[0;34m\u001b[0m\u001b[0m\n\u001b[1;32m     17\u001b[0m \u001b[0;34m\u001b[0m\u001b[0m\n\u001b[0;32m---> 18\u001b[0;31m \u001b[0mqsort\u001b[0m\u001b[0;34m(\u001b[0m\u001b[0marr\u001b[0m\u001b[0;34m,\u001b[0m \u001b[0;36m0\u001b[0m\u001b[0;34m,\u001b[0m \u001b[0mlen\u001b[0m\u001b[0;34m(\u001b[0m\u001b[0marr\u001b[0m\u001b[0;34m)\u001b[0m\u001b[0;34m-\u001b[0m\u001b[0;36m1\u001b[0m\u001b[0;34m)\u001b[0m\u001b[0;34m\u001b[0m\u001b[0;34m\u001b[0m\u001b[0m\n\u001b[0m\u001b[1;32m     19\u001b[0m \u001b[0mprint\u001b[0m\u001b[0;34m(\u001b[0m\u001b[0marr\u001b[0m\u001b[0;34m)\u001b[0m\u001b[0;34m\u001b[0m\u001b[0;34m\u001b[0m\u001b[0m\n",
            "\u001b[0;32m<ipython-input-1-642ba0dccb5b>\u001b[0m in \u001b[0;36mqsort\u001b[0;34m(arr, start, end)\u001b[0m\n\u001b[1;32m     13\u001b[0m             \u001b[0marr\u001b[0m\u001b[0;34m[\u001b[0m\u001b[0mend\u001b[0m\u001b[0;34m]\u001b[0m\u001b[0;34m=\u001b[0m\u001b[0marr\u001b[0m\u001b[0;34m[\u001b[0m\u001b[0mstart\u001b[0m\u001b[0;34m]\u001b[0m\u001b[0;34m\u001b[0m\u001b[0;34m\u001b[0m\u001b[0m\n\u001b[1;32m     14\u001b[0m             \u001b[0marr\u001b[0m\u001b[0;34m[\u001b[0m\u001b[0mstart\u001b[0m\u001b[0;34m]\u001b[0m \u001b[0;34m=\u001b[0m \u001b[0mtemp\u001b[0m\u001b[0;34m\u001b[0m\u001b[0;34m\u001b[0m\u001b[0m\n\u001b[0;32m---> 15\u001b[0;31m     \u001b[0mqsort\u001b[0m\u001b[0;34m(\u001b[0m\u001b[0marr\u001b[0m\u001b[0;34m,\u001b[0m \u001b[0mstart\u001b[0m\u001b[0;34m,\u001b[0m \u001b[0mmid\u001b[0m\u001b[0;34m-\u001b[0m\u001b[0;36m1\u001b[0m\u001b[0;34m)\u001b[0m\u001b[0;34m\u001b[0m\u001b[0;34m\u001b[0m\u001b[0m\n\u001b[0m\u001b[1;32m     16\u001b[0m     \u001b[0mqsort\u001b[0m\u001b[0;34m(\u001b[0m\u001b[0marr\u001b[0m\u001b[0;34m,\u001b[0m \u001b[0mmid\u001b[0m\u001b[0;34m+\u001b[0m\u001b[0;36m1\u001b[0m\u001b[0;34m,\u001b[0m \u001b[0mend\u001b[0m\u001b[0;34m)\u001b[0m\u001b[0;34m\u001b[0m\u001b[0;34m\u001b[0m\u001b[0m\n\u001b[1;32m     17\u001b[0m \u001b[0;34m\u001b[0m\u001b[0m\n",
            "... last 1 frames repeated, from the frame below ...\n",
            "\u001b[0;32m<ipython-input-1-642ba0dccb5b>\u001b[0m in \u001b[0;36mqsort\u001b[0;34m(arr, start, end)\u001b[0m\n\u001b[1;32m     13\u001b[0m             \u001b[0marr\u001b[0m\u001b[0;34m[\u001b[0m\u001b[0mend\u001b[0m\u001b[0;34m]\u001b[0m\u001b[0;34m=\u001b[0m\u001b[0marr\u001b[0m\u001b[0;34m[\u001b[0m\u001b[0mstart\u001b[0m\u001b[0;34m]\u001b[0m\u001b[0;34m\u001b[0m\u001b[0;34m\u001b[0m\u001b[0m\n\u001b[1;32m     14\u001b[0m             \u001b[0marr\u001b[0m\u001b[0;34m[\u001b[0m\u001b[0mstart\u001b[0m\u001b[0;34m]\u001b[0m \u001b[0;34m=\u001b[0m \u001b[0mtemp\u001b[0m\u001b[0;34m\u001b[0m\u001b[0;34m\u001b[0m\u001b[0m\n\u001b[0;32m---> 15\u001b[0;31m     \u001b[0mqsort\u001b[0m\u001b[0;34m(\u001b[0m\u001b[0marr\u001b[0m\u001b[0;34m,\u001b[0m \u001b[0mstart\u001b[0m\u001b[0;34m,\u001b[0m \u001b[0mmid\u001b[0m\u001b[0;34m-\u001b[0m\u001b[0;36m1\u001b[0m\u001b[0;34m)\u001b[0m\u001b[0;34m\u001b[0m\u001b[0;34m\u001b[0m\u001b[0m\n\u001b[0m\u001b[1;32m     16\u001b[0m     \u001b[0mqsort\u001b[0m\u001b[0;34m(\u001b[0m\u001b[0marr\u001b[0m\u001b[0;34m,\u001b[0m \u001b[0mmid\u001b[0m\u001b[0;34m+\u001b[0m\u001b[0;36m1\u001b[0m\u001b[0;34m,\u001b[0m \u001b[0mend\u001b[0m\u001b[0;34m)\u001b[0m\u001b[0;34m\u001b[0m\u001b[0;34m\u001b[0m\u001b[0m\n\u001b[1;32m     17\u001b[0m \u001b[0;34m\u001b[0m\u001b[0m\n",
            "\u001b[0;31mRecursionError\u001b[0m: maximum recursion depth exceeded while calling a Python object"
          ]
        }
      ]
    },
    {
      "cell_type": "code",
      "source": [
        "ques = \"baccadseas\"\n",
        "ans = \"\"\n",
        "def skipa(ans, ques):\n",
        "    if(ques == \"\"):\n",
        "        print(ans)\n",
        "        return\n",
        "    if(ques[0]==\"a\"):\n",
        "        skipa(ans, ques[1:])\n",
        "    else:\n",
        "        ans += ques[0]\n",
        "        skipa(ans, ques[1:])\n",
        "print(skipa(ans, ques))\n",
        "\n"
      ],
      "metadata": {
        "colab": {
          "base_uri": "https://localhost:8080/"
        },
        "id": "ppCgDHY3Dwxi",
        "outputId": "b6f42ad1-3f22-4a54-c920-e2f9015938d3"
      },
      "execution_count": null,
      "outputs": [
        {
          "output_type": "stream",
          "name": "stdout",
          "text": [
            "bccdses\n",
            "None\n"
          ]
        }
      ]
    },
    {
      "cell_type": "code",
      "source": [
        "#I dont want to pass a variable\n",
        "\n",
        "ques = \"accadbaccadbombaybo\"\n",
        "\n",
        "def skipb(ques):\n",
        "    if(ques==\"\"):\n",
        "        return \"\"\n",
        "    if(ques[0]==\"b\"):\n",
        "        return \"\"+skipb(ques[1:])\n",
        "    else:\n",
        "        return ques[0] + skipb(ques[1:])\n",
        "\n",
        "print(skipb(ques))\n"
      ],
      "metadata": {
        "colab": {
          "base_uri": "https://localhost:8080/"
        },
        "id": "a0TsCD4oMi69",
        "outputId": "8a48c887-fe02-4839-be18-7e78ef50fa54"
      },
      "execution_count": null,
      "outputs": [
        {
          "output_type": "stream",
          "name": "stdout",
          "text": [
            "accadaccadomayo\n"
          ]
        }
      ]
    },
    {
      "cell_type": "code",
      "source": [
        "# Subset strings problem\n",
        "#The arraylist will be separate from the function call\n",
        "\n",
        "ques = \"abc\"\n",
        "\n",
        "ans = []\n",
        "\n",
        "def subset_solver(solv, ques):\n",
        "    if(ques==\"\"):\n",
        "        if solv:\n",
        "            ans.append(solv)\n",
        "        return\n",
        "    subset_solver(solv, ques[1:])\n",
        "    solv += ques[0]\n",
        "    subset_solver(solv, ques[1:])\n",
        "\n",
        "subset_solver(\"\", ques)\n",
        "print(ans)\n",
        "\n"
      ],
      "metadata": {
        "colab": {
          "base_uri": "https://localhost:8080/"
        },
        "id": "U_mopmCsMywm",
        "outputId": "9570cca9-5bd9-4578-c934-7576901a5a82"
      },
      "execution_count": null,
      "outputs": [
        {
          "output_type": "stream",
          "name": "stdout",
          "text": [
            "['c', 'b', 'bc', 'a', 'ac', 'ab', 'abc']\n"
          ]
        }
      ]
    },
    {
      "cell_type": "code",
      "source": [
        "#But what if we want to pass the arraylist and have it add to it and return to it\n",
        "\n",
        "ques = \"abc\"\n",
        "\n",
        "def subset_solver(arr,solv, ques):\n",
        "    if not ques:\n",
        "        arr.append(solv)\n",
        "        return arr\n",
        "    return arr + subset_solver(arr,solv, ques[1:])\n",
        "    solv += ques[0]\n",
        "    return arr + subset_solver(arr, solv, ques[1:])\n",
        "subset_solver([],\"\",ques)"
      ],
      "metadata": {
        "colab": {
          "base_uri": "https://localhost:8080/"
        },
        "id": "t_E_A2qgWT5_",
        "outputId": "7b02939b-2242-4a0f-a855-7c093af6426e"
      },
      "execution_count": null,
      "outputs": [
        {
          "output_type": "execute_result",
          "data": {
            "text/plain": [
              "['', '', '', '']"
            ]
          },
          "metadata": {},
          "execution_count": 15
        }
      ]
    },
    {
      "cell_type": "code",
      "source": [
        "#We dont need to pass an array into it\n",
        "\n",
        "ques = \"abc\"\n",
        "\n",
        "def subset_solver(p, unp):\n",
        "    if unp == \"\":\n",
        "        return [p]\n",
        "    a1 = subset_solver(p + unp[0], unp[1:])\n",
        "    a2 = subset_solver(p,unp[1:])\n",
        "    return a1 + a2\n",
        "print(subset_solver(\"\",ques))"
      ],
      "metadata": {
        "colab": {
          "base_uri": "https://localhost:8080/"
        },
        "id": "whseFfBgXQ9j",
        "outputId": "48e8ec54-023a-4f9d-90e9-d998faa37367"
      },
      "execution_count": null,
      "outputs": [
        {
          "output_type": "stream",
          "name": "stdout",
          "text": [
            "['abc', 'ab', 'ac', 'a', 'bc', 'b', 'c', '']\n"
          ]
        }
      ]
    },
    {
      "cell_type": "code",
      "source": [
        "for i in \"sai\":\n",
        "    print(ord(i))\n",
        "    print(chr(ord(i)))"
      ],
      "metadata": {
        "colab": {
          "base_uri": "https://localhost:8080/"
        },
        "id": "ngOTeLz6CoKI",
        "outputId": "c6eb90ee-6ceb-46b4-8ebd-b60147ba5778"
      },
      "execution_count": null,
      "outputs": [
        {
          "output_type": "stream",
          "name": "stdout",
          "text": [
            "115\n",
            "s\n",
            "97\n",
            "a\n",
            "105\n",
            "i\n"
          ]
        }
      ]
    },
    {
      "cell_type": "code",
      "source": [
        "from re import S\n",
        "#What if i want to do this with iteration?\n",
        "\n",
        "ques = \"abs\"\n",
        "\n",
        "def subset_iter(ques):\n",
        "    output = []\n",
        "    for i in ques:\n",
        "        if output:\n",
        "            for k in range(len(output)):\n",
        "                new = output[k]+i\n",
        "                output.append(new)\n",
        "        output.append(i)\n",
        "    return output\n",
        "\n",
        "subset_iter(ques)"
      ],
      "metadata": {
        "colab": {
          "base_uri": "https://localhost:8080/"
        },
        "id": "XG6emvCZEFQX",
        "outputId": "9caac9bb-5c5e-46a4-d239-f40f0e7285f0"
      },
      "execution_count": null,
      "outputs": [
        {
          "output_type": "execute_result",
          "data": {
            "text/plain": [
              "['a', 'ab', 'b', 'as', 'abs', 'bs', 's']"
            ]
          },
          "metadata": {},
          "execution_count": 12
        }
      ]
    },
    {
      "cell_type": "code",
      "source": [
        "#What if there are duplicates in the elements and you dont want to have same type of elements twice in the output array\n",
        "#UNSOLVED\n",
        "\n",
        "ques = \"abc\"\n",
        "\n",
        "def subset_iter_dup(ques):\n",
        "    output = []\n",
        "    for i in ques:\n",
        "        if output:\n",
        "            if i in output:\n",
        "                for k in range(len(output)):\n",
        "                    new = output[k]\n",
        "                    if i in new:\n",
        "                        new = new + i\n",
        "                        output.append(new)\n",
        "            else:\n",
        "                for k in range(len(output)):\n",
        "                    new = output[k] + i\n",
        "                    output.append(new)\n",
        "        output.append(i)\n",
        "\n",
        "    return output\n",
        "print(subset_iter_dup(ques))"
      ],
      "metadata": {
        "colab": {
          "base_uri": "https://localhost:8080/"
        },
        "id": "qiPVb0p6KQLO",
        "outputId": "eb904212-245c-458a-bb21-12403e779863"
      },
      "execution_count": null,
      "outputs": [
        {
          "output_type": "stream",
          "name": "stdout",
          "text": [
            "['a', 'ab', 'b', 'ac', 'abc', 'bc', 'c']\n"
          ]
        }
      ]
    },
    {
      "cell_type": "code",
      "source": [
        "#Permutations\n",
        "ques = \"abc\"\n",
        "ans = []\n",
        "def perms(p, unp):\n",
        "    # print(unp)\n",
        "    if unp == \"\":\n",
        "        ans.append(p)\n",
        "        return\n",
        "    # if not p:\n",
        "    #     perms(unp[0], unp[1:])\n",
        "    x = len(p)\n",
        "    for i in range(0,x+1):\n",
        "        # print(i)\n",
        "        first = p[:i]\n",
        "        last = p[i:]\n",
        "        new_p = first + unp[0] + last\n",
        "        perms(new_p, unp[1:])\n",
        "perms(\"\",ques)\n",
        "print(ans)"
      ],
      "metadata": {
        "colab": {
          "base_uri": "https://localhost:8080/"
        },
        "id": "rasZ43B0RUad",
        "outputId": "dbed5e75-8f12-492d-dafc-38f421b2314a"
      },
      "execution_count": null,
      "outputs": [
        {
          "output_type": "stream",
          "name": "stdout",
          "text": [
            "['cba', 'bca', 'bac', 'cab', 'acb', 'abc']\n"
          ]
        }
      ]
    },
    {
      "cell_type": "code",
      "source": [
        "for i in range(0,2):\n",
        "    print(i)"
      ],
      "metadata": {
        "colab": {
          "base_uri": "https://localhost:8080/"
        },
        "id": "PNCLA6pZaKv8",
        "outputId": "3dbba273-8ca3-4149-a00c-b9b77458fcb4"
      },
      "execution_count": null,
      "outputs": [
        {
          "output_type": "stream",
          "name": "stdout",
          "text": [
            "0\n",
            "1\n"
          ]
        }
      ]
    },
    {
      "cell_type": "code",
      "source": [
        "#Now i want to return an array list from the permutations\n",
        "\n",
        "#Permutations\n",
        "ques = \"abc\"\n",
        "def perms(p, unp):\n",
        "    # print(unp)\n",
        "    if unp == \"\":\n",
        "        return [p]\n",
        "    # if not p:\n",
        "    #     perms(unp[0], unp[1:])\n",
        "    x = len(p)\n",
        "    arr = []\n",
        "    for i in range(0,x+1):\n",
        "        # print(i)\n",
        "        first = p[:i]\n",
        "        last = p[i:]\n",
        "        new_p = first + unp[0] + last\n",
        "        arr = arr + perms(new_p, unp[1:])\n",
        "    return arr\n",
        "perms(\"\",ques)\n",
        "# print(ans)"
      ],
      "metadata": {
        "colab": {
          "base_uri": "https://localhost:8080/"
        },
        "id": "c7efPR-IPZVq",
        "outputId": "1836da2f-a2a2-41ef-a3f7-f36896229178"
      },
      "execution_count": null,
      "outputs": [
        {
          "output_type": "execute_result",
          "data": {
            "text/plain": [
              "['cba', 'bca', 'bac', 'cab', 'acb', 'abc']"
            ]
          },
          "metadata": {},
          "execution_count": 12
        }
      ]
    },
    {
      "cell_type": "code",
      "source": [
        "#now i want to count the number of permutations\n",
        "\n",
        "ques = \"abcd\"\n",
        "\n",
        "def permscount(p, unp):\n",
        "    if unp == \"\":\n",
        "        return 1\n",
        "    count = 0\n",
        "    k = len(p)\n",
        "    for i in range(k+1):\n",
        "        first = p[:k]\n",
        "        second = p[k:]\n",
        "        new_p = first + unp[0] + second\n",
        "        count = count + permscount(new_p,unp[1:])\n",
        "    return count\n",
        "permscount(\"\",ques)\n",
        "\n"
      ],
      "metadata": {
        "colab": {
          "base_uri": "https://localhost:8080/"
        },
        "id": "PePLFN7ZSCmL",
        "outputId": "17e48f30-b421-4508-c868-32e70dece6e7"
      },
      "execution_count": null,
      "outputs": [
        {
          "output_type": "execute_result",
          "data": {
            "text/plain": [
              "24"
            ]
          },
          "metadata": {},
          "execution_count": 14
        }
      ]
    },
    {
      "cell_type": "code",
      "source": [
        "#Phone number problem\n",
        "# num = \"12\"\n",
        "focus_dict = {\"1\":\"abc\", \"2\":\"def\",\"3\":\"ghi\"}\n",
        "# ans = []\n",
        "def phone(p, unp):\n",
        "    if unp == \"\":\n",
        "        return 1\n",
        "        # return [p]\n",
        "    focus_one = unp[0]\n",
        "    focus = focus_dict[focus_one]\n",
        "    arr = 0\n",
        "    for i in focus:\n",
        "        arr = arr + phone(p+i,unp[1:])\n",
        "    return arr\n",
        "phone(\"\",\"12\")\n",
        "# print(ans)"
      ],
      "metadata": {
        "colab": {
          "base_uri": "https://localhost:8080/"
        },
        "id": "O72HoA-GVu4S",
        "outputId": "3a760408-6a71-4b2f-d290-214e21f5863a"
      },
      "execution_count": null,
      "outputs": [
        {
          "output_type": "execute_result",
          "data": {
            "text/plain": [
              "9"
            ]
          },
          "metadata": {},
          "execution_count": 26
        }
      ]
    },
    {
      "cell_type": "code",
      "source": [
        "#How many ways to do a sum\n",
        "arr = [1,2,3,4,5,6]\n",
        "def dice(sum,num, arr):\n",
        "    if sum > num:\n",
        "        return 0\n",
        "    if sum == num:\n",
        "        return 1\n",
        "    count = 0\n",
        "    for i in arr:\n",
        "        count = count + dice(sum+i, num, arr)\n",
        "    return count\n",
        "dice(0,3, arr)\n",
        "\n"
      ],
      "metadata": {
        "colab": {
          "base_uri": "https://localhost:8080/"
        },
        "id": "K1ZoaHdccs_H",
        "outputId": "cfe75b52-a632-4c00-f1b3-7a36cb331547"
      },
      "execution_count": null,
      "outputs": [
        {
          "output_type": "execute_result",
          "data": {
            "text/plain": [
              "4"
            ]
          },
          "metadata": {},
          "execution_count": 28
        }
      ]
    },
    {
      "cell_type": "code",
      "source": [
        "# what if i want to return the combinations\n",
        "##UNSOLVED\n",
        "#How many ways to do a sum\n",
        "arr = [1,2,3,4,5,6]\n",
        "def dice(sum,num,comb, arr):\n",
        "    if sum > num:\n",
        "        return 0\n",
        "    if sum == num:\n",
        "        return (1, comb)\n",
        "    count = 0\n",
        "    for i in arr:\n",
        "        count_out, comb_out =  dice(sum+i, num, comb, arr)\n",
        "        count = count + count_out\n",
        "        comb = comb + comb_out\n",
        "    return count, comb\n",
        "\n",
        "dice(0,3,[], arr)\n",
        "\n",
        "# what if i want to return the combinations\n",
        "#How many ways to do a sum\n",
        "arr = [1,2,3,4,5,6]\n",
        "comb = []\n",
        "def dice(sum,num,comb, arr):\n",
        "    print(comb)\n",
        "    if sum > num:\n",
        "        return\n",
        "    if sum == num:\n",
        "        return comb\n",
        "    for i in arr:\n",
        "        comb_out =  dice(sum+i, num, comb.append(i), arr)\n",
        "        comb = comb + comb_out\n",
        "    return comb\n",
        "\n",
        "dice(0,3,comb, arr)"
      ],
      "metadata": {
        "id": "0Bxe_vA4fRPY"
      },
      "execution_count": null,
      "outputs": []
    },
    {
      "cell_type": "code",
      "source": [
        "def num_comb(arr, target, comb):\n",
        "    if target == 0:\n",
        "        return [comb[:]]\n",
        "    if target < 0:\n",
        "        return []\n",
        "    output = []\n",
        "    for i in arr:\n",
        "        temp_comb = comb.copy()\n",
        "        if (i <= target):\n",
        "            temp_comb.append(i)\n",
        "            # print(temp_comb)\n",
        "            # print(target-i)\n",
        "            output.extend(num_comb(arr, target-i, temp_comb))\n",
        "    return output\n",
        "\n",
        "arr = [1,2,3,4]\n",
        "num_comb(arr, 3, [])\n",
        "\n"
      ],
      "metadata": {
        "colab": {
          "base_uri": "https://localhost:8080/"
        },
        "id": "Vzuf2riIgapl",
        "outputId": "ac9694ca-ba79-492d-9fde-70b379bcfadd"
      },
      "execution_count": null,
      "outputs": [
        {
          "output_type": "execute_result",
          "data": {
            "text/plain": [
              "[[1, 1, 1], [1, 2], [2, 1], [3]]"
            ]
          },
          "metadata": {},
          "execution_count": 8
        }
      ]
    },
    {
      "cell_type": "code",
      "source": [
        "# Maze Problem:\n",
        "\n",
        "def mazecount(r,c):\n",
        "    if r ==1 or c ==1:\n",
        "        return 1\n",
        "    left = mazecount(r-1,c)\n",
        "    right = mazecount(r,c-1)\n",
        "    paths = left + right\n",
        "    return paths\n",
        "mazecount(3,3)"
      ],
      "metadata": {
        "colab": {
          "base_uri": "https://localhost:8080/"
        },
        "id": "zdWeTACMgszJ",
        "outputId": "11b1339b-c202-47a8-a8b4-bc54df21866e"
      },
      "execution_count": null,
      "outputs": [
        {
          "output_type": "execute_result",
          "data": {
            "text/plain": [
              "6"
            ]
          },
          "metadata": {},
          "execution_count": 36
        }
      ]
    },
    {
      "cell_type": "code",
      "source": [
        "#Printing the paths for the maze\n",
        "\n",
        "def mazepaths(p, r, c):\n",
        "    if(r==1 and c ==1):\n",
        "        return [p]\n",
        "    paths = []\n",
        "    if(r>0 and c>0 ):\n",
        "        paths_down = mazepaths(p+\" D \", r-1, c)\n",
        "        paths_right = mazepaths(p + \" R \", r, c-1)\n",
        "        paths += paths_down\n",
        "        paths += paths_right\n",
        "    return paths\n",
        "mazepaths(\" \",3,3)\n"
      ],
      "metadata": {
        "colab": {
          "base_uri": "https://localhost:8080/"
        },
        "id": "ku30d-NQuWU2",
        "outputId": "1bce0141-4ba8-4b0e-c0b5-61da19e37a45"
      },
      "execution_count": null,
      "outputs": [
        {
          "output_type": "execute_result",
          "data": {
            "text/plain": [
              "['  D  D  R  R ',\n",
              " '  D  R  D  R ',\n",
              " '  D  R  R  D ',\n",
              " '  R  D  D  R ',\n",
              " '  R  D  R  D ',\n",
              " '  R  R  D  D ']"
            ]
          },
          "metadata": {},
          "execution_count": 41
        }
      ]
    },
    {
      "cell_type": "code",
      "source": [
        "#what if the path can be diagonal also\n",
        "\n",
        "def mazepathsdiag(p,r,c):\n",
        "    if(r==1 and c==1):\n",
        "        return [p]\n",
        "    paths = []\n",
        "    if(r>0 and c>0):\n",
        "        down = mazepathsdiag(p+\"D\",r-1,c)\n",
        "        right = mazepathsdiag(p+\"R\",r,c-1)\n",
        "        diag = mazepathsdiag(p+\"X\",r-1,c-1)\n",
        "        paths += down\n",
        "        paths += right\n",
        "        paths += diag\n",
        "    return paths\n",
        "mazepathsdiag(\"\",3,3)\n"
      ],
      "metadata": {
        "colab": {
          "base_uri": "https://localhost:8080/"
        },
        "id": "DexYQpVdw6lt",
        "outputId": "d0aff6aa-5d29-4353-9299-e7ffb4ecea31"
      },
      "execution_count": null,
      "outputs": [
        {
          "output_type": "execute_result",
          "data": {
            "text/plain": [
              "['DDRR',\n",
              " 'DRDR',\n",
              " 'DRRD',\n",
              " 'DRX',\n",
              " 'DXR',\n",
              " 'RDDR',\n",
              " 'RDRD',\n",
              " 'RDX',\n",
              " 'RRDD',\n",
              " 'RXD',\n",
              " 'XDR',\n",
              " 'XRD',\n",
              " 'XX']"
            ]
          },
          "metadata": {},
          "execution_count": 42
        }
      ]
    },
    {
      "cell_type": "code",
      "source": [
        "#What if there are obstacles in the path\n",
        "#start with 0,0, reach 2,2, obstacle at 1,1, can only go down and right, print paths\n",
        "\n",
        "def mabs(p, r, c):\n",
        "    if r==2 and c==2:\n",
        "        return [p]\n",
        "    if r==1 and c==1:\n",
        "        return []\n",
        "    paths = []\n",
        "    if r < 2:\n",
        "        down = mabs(p+ \"D \",r+1,c )\n",
        "        paths += down\n",
        "    if c < 2:\n",
        "        right = mabs(p+ \"R \",r,c+1)\n",
        "        paths += right\n",
        "    return paths\n",
        "\n",
        "mabs(\"\",0,0)\n"
      ],
      "metadata": {
        "colab": {
          "base_uri": "https://localhost:8080/"
        },
        "id": "CXQ1PxfTzqub",
        "outputId": "aed56369-5c0f-42a5-a9da-f599178ec105"
      },
      "execution_count": null,
      "outputs": [
        {
          "output_type": "execute_result",
          "data": {
            "text/plain": [
              "['D D R R ', 'R R D D ']"
            ]
          },
          "metadata": {},
          "execution_count": 44
        }
      ]
    },
    {
      "cell_type": "code",
      "source": [
        "#What if there is a map and the obstacles and destination is provided in the map\n",
        "\n",
        "map = [[\"path\",\"path\",\"obs\"],\n",
        "       [\"path\",\"obs\",\"path\"],\n",
        "       [\"path\",\"path\",\"dest\"]]\n",
        "\n",
        "def mabsmap(p, map, r, c):\n",
        "    if map[r][c] == \"dest\":\n",
        "        return [p]\n",
        "    if map[r][c] == \"obs\":\n",
        "        return []\n",
        "    paths = []\n",
        "    if r < len(map)-1:\n",
        "        down = mabsmap(p+\"D\", map, r+1,c )\n",
        "        paths += down\n",
        "    if c < len(map[0])-1:\n",
        "        right = mabsmap(p+\"R\",map,r,c+1)\n",
        "        paths += right\n",
        "    return paths\n",
        "mabsmap(\"\",map,0,0)\n"
      ],
      "metadata": {
        "colab": {
          "base_uri": "https://localhost:8080/"
        },
        "id": "XFh5qqTa2zxd",
        "outputId": "f27adc5c-0f7f-4640-d05b-f27b0c780f24"
      },
      "execution_count": null,
      "outputs": [
        {
          "output_type": "execute_result",
          "data": {
            "text/plain": [
              "['DDRR']"
            ]
          },
          "metadata": {},
          "execution_count": 49
        }
      ]
    },
    {
      "cell_type": "code",
      "source": [
        "#what if i want to do backtracking\n",
        "\n",
        "map = [[\"path\",\"path\",\"path\"],\n",
        "       [\"path\",\"path\",\"path\"],\n",
        "       [\"path\",\"path\",\"path\"]]\n",
        "\n",
        "\n",
        "def mapback(p, map, r, c):\n",
        "    for i in map:\n",
        "        print(i)\n",
        "    print(\"*****************\")\n",
        "    if r ==2 and c == 2:\n",
        "        return [p]\n",
        "    paths = []\n",
        "    if(r<2):\n",
        "        map[r][c] = \"touch\"\n",
        "        down = mapback(p+\"D\",map, r+1, c)\n",
        "        paths += down\n",
        "        map[r][c] = \"path\"\n",
        "    if(c<2):\n",
        "        map[r][c] = \"touch\"\n",
        "        right = mapback(p+\"R\",map, r, c+1)\n",
        "        paths += right\n",
        "        map[r][c] = \"path\"\n",
        "    return paths\n",
        "mapback(\"\",map, 0,0)"
      ],
      "metadata": {
        "id": "LhcUbEBc7YD0"
      },
      "execution_count": null,
      "outputs": []
    },
    {
      "cell_type": "code",
      "source": [
        "#I have a map, i can DRUL, i need to print the path that it took on the map, rather than returning the path\n",
        "map =[[0,0,0],\n",
        "      [0,0,0],\n",
        "      [0,0,0]]\n",
        "\n",
        "def mappath(p, map, r, c, pathcount):\n",
        "    if r==2 and c==2:\n",
        "        map[r][c] = pathcount\n",
        "        for i in map:\n",
        "            print(i)\n",
        "        print(p)\n",
        "        print(\"************\")\n",
        "        map[r][c] = 0\n",
        "        return\n",
        "\n",
        "    map[r][c] = pathcount\n",
        "    if r<2 and map[r+1][c] ==0:\n",
        "        mappath(p+\"D\",map,r+1, c, pathcount+1)\n",
        "    if c<2 and map[r][c+1] ==0:\n",
        "        mappath(p+\"R\",map, r, c+1, pathcount+1)\n",
        "    if r>0 and map[r-1][c] ==0:\n",
        "        mappath(p+\"U\",map, r-1, c, pathcount+1)\n",
        "    if c>0 and map[r][c-1] ==0:\n",
        "        mappath(p+\"L\",map, r, c-1, pathcount+1)\n",
        "    map[r][c] = 0\n",
        "    return\n",
        "mappath(\"\",map,0,0,1)\n"
      ],
      "metadata": {
        "colab": {
          "base_uri": "https://localhost:8080/"
        },
        "id": "BHOTiulyCqpZ",
        "outputId": "73825de8-a99e-4808-f363-6f7dc350a836"
      },
      "execution_count": null,
      "outputs": [
        {
          "output_type": "stream",
          "name": "stdout",
          "text": [
            "[1, 0, 0]\n",
            "[2, 0, 0]\n",
            "[3, 4, 5]\n",
            "DDRR\n",
            "************\n",
            "[1, 0, 0]\n",
            "[2, 5, 6]\n",
            "[3, 4, 7]\n",
            "DDRURD\n",
            "************\n",
            "[1, 6, 7]\n",
            "[2, 5, 8]\n",
            "[3, 4, 9]\n",
            "DDRUURDD\n",
            "************\n",
            "[1, 0, 0]\n",
            "[2, 3, 0]\n",
            "[0, 4, 5]\n",
            "DRDR\n",
            "************\n",
            "[1, 0, 0]\n",
            "[2, 3, 4]\n",
            "[0, 0, 5]\n",
            "DRRD\n",
            "************\n",
            "[1, 4, 5]\n",
            "[2, 3, 6]\n",
            "[0, 0, 7]\n",
            "DRURDD\n",
            "************\n",
            "[1, 2, 0]\n",
            "[0, 3, 0]\n",
            "[0, 4, 5]\n",
            "RDDR\n",
            "************\n",
            "[1, 2, 0]\n",
            "[0, 3, 4]\n",
            "[0, 0, 5]\n",
            "RDRD\n",
            "************\n",
            "[1, 2, 0]\n",
            "[4, 3, 0]\n",
            "[5, 6, 7]\n",
            "RDLDRR\n",
            "************\n",
            "[1, 2, 3]\n",
            "[0, 0, 4]\n",
            "[0, 0, 5]\n",
            "RRDD\n",
            "************\n",
            "[1, 2, 3]\n",
            "[0, 5, 4]\n",
            "[0, 6, 7]\n",
            "RRDLDR\n",
            "************\n",
            "[1, 2, 3]\n",
            "[6, 5, 4]\n",
            "[7, 8, 9]\n",
            "RRDLLDRR\n",
            "************\n"
          ]
        }
      ]
    },
    {
      "cell_type": "code",
      "source": [
        "#NQueens problem\n",
        "#NOT WORKING\n",
        "map = [['0','0','0','0'],\n",
        "       ['0','0','0','0'],\n",
        "       ['0','0','0','0'],\n",
        "       ['0','0','0','0']\n",
        "       ]\n",
        "\n",
        "def nqueen(map, r, c, q):\n",
        "    if q==0:\n",
        "        for i in map:\n",
        "            print(i)\n",
        "        print(\"************\")\n",
        "        return\n",
        "    canbeplaced = True\n",
        "    #Check up\n",
        "    temp_r = r\n",
        "    temp_c = c\n",
        "    while temp_r>0:\n",
        "        if map[temp_r-1][temp_c] == 'Q':\n",
        "            canbeplaced = False\n",
        "            temp_r -= 1\n",
        "    #Check diag left\n",
        "    temp_r = r\n",
        "    temp_c = c\n",
        "    while temp_r>0 and temp_c>0:\n",
        "        if map[temp_r-1][temp_c-1] == 'Q':\n",
        "            canbeplaced = False\n",
        "            temp_c -= 1\n",
        "            temp_r -= 1\n",
        "    #Check diag right\n",
        "    temp_r = r\n",
        "    temp_c = c\n",
        "    while temp_r>0 and temp_c<3:\n",
        "        if map[temp_r-1][temp_c+1] == 'Q':\n",
        "            canbeplaced = False\n",
        "            temp_r -= 1\n",
        "            temp_c += 1\n",
        "\n",
        "    if canbeplaced == False:\n",
        "        nqueen(map,r,c+1, q)\n",
        "    else:\n",
        "        map[r][c] = 'Q'\n",
        "        nqueen(map,r+1,0,q-1)\n",
        "        map[r][c] = '0'\n",
        "    return\n",
        "\n",
        "nqueen(map,0,0,4)\n",
        "\n",
        "#NQueens problem\n",
        "map = [['0','0','0','0'],\n",
        "       ['0','0','0','0'],\n",
        "       ['0','0','0','0'],\n",
        "       ['0','0','0','0']\n",
        "       ]\n",
        "\n",
        "def nqueen(map, r, c, q):\n",
        "    if q==0:\n",
        "        for i in map:\n",
        "            print(i)\n",
        "        print(\"************\")\n",
        "        return\n",
        "    canbeplaced = True\n",
        "    #Check up\n",
        "    temp_r = r\n",
        "    temp_c = c\n",
        "    while temp_r>0:\n",
        "        if map[temp_r-1][temp_c] == 'Q':\n",
        "            canbeplaced = False\n",
        "            temp_r -= 1\n",
        "        else:\n",
        "            temp_r -= 1\n",
        "    #Check diag left\n",
        "    temp_r = r\n",
        "    temp_c = c\n",
        "    while temp_r>0 and temp_c>0:\n",
        "        if map[temp_r-1][temp_c-1] == 'Q':\n",
        "            canbeplaced = False\n",
        "            temp_c -= 1\n",
        "            temp_r -= 1\n",
        "\n",
        "        else:\n",
        "            temp_r -= 1\n",
        "            temp_c -= 1\n",
        "    #Check diag right\n",
        "    temp_r = r\n",
        "    temp_c = c\n",
        "    while temp_r>0 and temp_c<3:\n",
        "        if map[temp_r-1][temp_c+1] == 'Q':\n",
        "            canbeplaced = False\n",
        "            temp_r -= 1\n",
        "            temp_c += 1\n",
        "        else:\n",
        "            temp_r -= 1\n",
        "            temp_c += 1\n",
        "\n",
        "\n",
        "    if canbeplaced == False and c < 3:\n",
        "        nqueen(map,r,c+1, q)\n",
        "    else:\n",
        "        map[r][c] = 'Q'\n",
        "        nqueen(map,r+1,0,q-1)\n",
        "        map[r][c] = '0'\n",
        "\n",
        "    return\n",
        "\n",
        "nqueen(map,0,0,4)"
      ],
      "metadata": {
        "id": "BDDT6ektcmaK"
      },
      "execution_count": null,
      "outputs": []
    },
    {
      "cell_type": "code",
      "source": [],
      "metadata": {
        "id": "6h9OZU0WmHsp"
      },
      "execution_count": null,
      "outputs": []
    },
    {
      "cell_type": "code",
      "source": [
        "#NQueens problem\n",
        "map = [['0','0','0','0','0'],\n",
        "       ['0','0','0','0','0'],\n",
        "       ['0','0','0','0','0'],\n",
        "       ['0','0','0','0','0'],\n",
        "       ['0','0','0','0','0']\n",
        "       ]\n",
        "\n",
        "def nqueen(map, r, c, q):\n",
        "    if q==0:\n",
        "        for i in map:\n",
        "            print(i)\n",
        "        print(\"************\")\n",
        "        return\n",
        "    canbeplaced = True\n",
        "    #Check up\n",
        "    temp_r = r\n",
        "    temp_c = c\n",
        "    while temp_r>0:\n",
        "        if map[temp_r-1][temp_c] == 'Q':\n",
        "            canbeplaced = False\n",
        "            temp_r -= 1\n",
        "        else:\n",
        "            temp_r -= 1\n",
        "    #Check diag left\n",
        "    temp_r = r\n",
        "    temp_c = c\n",
        "    while temp_r>0 and temp_c>0:\n",
        "        if map[temp_r-1][temp_c-1] == 'Q':\n",
        "            canbeplaced = False\n",
        "            temp_c -= 1\n",
        "            temp_r -= 1\n",
        "\n",
        "        else:\n",
        "            temp_r -= 1\n",
        "            temp_c -= 1\n",
        "    #Check diag right\n",
        "    temp_r = r\n",
        "    temp_c = c\n",
        "    while temp_r>0 and temp_c<4:\n",
        "        if map[temp_r-1][temp_c+1] == 'Q':\n",
        "            canbeplaced = False\n",
        "            temp_r -= 1\n",
        "            temp_c += 1\n",
        "        else:\n",
        "            temp_r -= 1\n",
        "            temp_c += 1\n",
        "\n",
        "\n",
        "    if canbeplaced == False and c < 4:\n",
        "        nqueen(map,r,c+1, q)\n",
        "    if canbeplaced == True:\n",
        "        map[r][c] = 'Q'\n",
        "        nqueen(map,r+1,0,q-1)\n",
        "        map[r][c] = '0'\n",
        "    if c<4:\n",
        "        nqueen(map,r,c+1, q)\n",
        "    return\n",
        "\n",
        "nqueen(map,0,0,5)\n",
        "\n",
        "#Only showing one output"
      ],
      "metadata": {
        "colab": {
          "base_uri": "https://localhost:8080/",
          "height": 356
        },
        "id": "HVglmmA8sCwE",
        "outputId": "ceac3a5e-860b-4538-fbb9-d4c6ffc902ae"
      },
      "execution_count": null,
      "outputs": [
        {
          "output_type": "error",
          "ename": "IndexError",
          "evalue": "list index out of range",
          "traceback": [
            "\u001b[0;31m---------------------------------------------------------------------------\u001b[0m",
            "\u001b[0;31mIndexError\u001b[0m                                Traceback (most recent call last)",
            "\u001b[0;32m<ipython-input-11-587e46f57f04>\u001b[0m in \u001b[0;36m<cell line: 0>\u001b[0;34m()\u001b[0m\n\u001b[1;32m     57\u001b[0m     \u001b[0;32mreturn\u001b[0m\u001b[0;34m\u001b[0m\u001b[0;34m\u001b[0m\u001b[0m\n\u001b[1;32m     58\u001b[0m \u001b[0;34m\u001b[0m\u001b[0m\n\u001b[0;32m---> 59\u001b[0;31m \u001b[0mnqueen\u001b[0m\u001b[0;34m(\u001b[0m\u001b[0mmap\u001b[0m\u001b[0;34m,\u001b[0m\u001b[0;36m0\u001b[0m\u001b[0;34m,\u001b[0m\u001b[0;36m0\u001b[0m\u001b[0;34m,\u001b[0m\u001b[0;36m4\u001b[0m\u001b[0;34m)\u001b[0m\u001b[0;34m\u001b[0m\u001b[0;34m\u001b[0m\u001b[0m\n\u001b[0m\u001b[1;32m     60\u001b[0m \u001b[0;34m\u001b[0m\u001b[0m\n\u001b[1;32m     61\u001b[0m \u001b[0;31m#Only showing one output\u001b[0m\u001b[0;34m\u001b[0m\u001b[0;34m\u001b[0m\u001b[0m\n",
            "\u001b[0;32m<ipython-input-11-587e46f57f04>\u001b[0m in \u001b[0;36mnqueen\u001b[0;34m(map, r, c, q)\u001b[0m\n\u001b[1;32m     51\u001b[0m     \u001b[0;32mif\u001b[0m \u001b[0mcanbeplaced\u001b[0m \u001b[0;34m==\u001b[0m \u001b[0;32mTrue\u001b[0m\u001b[0;34m:\u001b[0m\u001b[0;34m\u001b[0m\u001b[0;34m\u001b[0m\u001b[0m\n\u001b[1;32m     52\u001b[0m         \u001b[0mmap\u001b[0m\u001b[0;34m[\u001b[0m\u001b[0mr\u001b[0m\u001b[0;34m]\u001b[0m\u001b[0;34m[\u001b[0m\u001b[0mc\u001b[0m\u001b[0;34m]\u001b[0m \u001b[0;34m=\u001b[0m \u001b[0;34m'Q'\u001b[0m\u001b[0;34m\u001b[0m\u001b[0;34m\u001b[0m\u001b[0m\n\u001b[0;32m---> 53\u001b[0;31m         \u001b[0mnqueen\u001b[0m\u001b[0;34m(\u001b[0m\u001b[0mmap\u001b[0m\u001b[0;34m,\u001b[0m\u001b[0mr\u001b[0m\u001b[0;34m+\u001b[0m\u001b[0;36m1\u001b[0m\u001b[0;34m,\u001b[0m\u001b[0;36m0\u001b[0m\u001b[0;34m,\u001b[0m\u001b[0mq\u001b[0m\u001b[0;34m-\u001b[0m\u001b[0;36m1\u001b[0m\u001b[0;34m)\u001b[0m\u001b[0;34m\u001b[0m\u001b[0;34m\u001b[0m\u001b[0m\n\u001b[0m\u001b[1;32m     54\u001b[0m         \u001b[0mmap\u001b[0m\u001b[0;34m[\u001b[0m\u001b[0mr\u001b[0m\u001b[0;34m]\u001b[0m\u001b[0;34m[\u001b[0m\u001b[0mc\u001b[0m\u001b[0;34m]\u001b[0m \u001b[0;34m=\u001b[0m \u001b[0;34m'0'\u001b[0m\u001b[0;34m\u001b[0m\u001b[0;34m\u001b[0m\u001b[0m\n\u001b[1;32m     55\u001b[0m     \u001b[0;32mif\u001b[0m \u001b[0mc\u001b[0m\u001b[0;34m<\u001b[0m\u001b[0;36m4\u001b[0m\u001b[0;34m:\u001b[0m\u001b[0;34m\u001b[0m\u001b[0;34m\u001b[0m\u001b[0m\n",
            "\u001b[0;32m<ipython-input-11-587e46f57f04>\u001b[0m in \u001b[0;36mnqueen\u001b[0;34m(map, r, c, q)\u001b[0m\n\u001b[1;32m     48\u001b[0m \u001b[0;34m\u001b[0m\u001b[0m\n\u001b[1;32m     49\u001b[0m     \u001b[0;32mif\u001b[0m \u001b[0mcanbeplaced\u001b[0m \u001b[0;34m==\u001b[0m \u001b[0;32mFalse\u001b[0m \u001b[0;32mand\u001b[0m \u001b[0mc\u001b[0m \u001b[0;34m<\u001b[0m \u001b[0;36m4\u001b[0m\u001b[0;34m:\u001b[0m\u001b[0;34m\u001b[0m\u001b[0;34m\u001b[0m\u001b[0m\n\u001b[0;32m---> 50\u001b[0;31m         \u001b[0mnqueen\u001b[0m\u001b[0;34m(\u001b[0m\u001b[0mmap\u001b[0m\u001b[0;34m,\u001b[0m\u001b[0mr\u001b[0m\u001b[0;34m,\u001b[0m\u001b[0mc\u001b[0m\u001b[0;34m+\u001b[0m\u001b[0;36m1\u001b[0m\u001b[0;34m,\u001b[0m \u001b[0mq\u001b[0m\u001b[0;34m)\u001b[0m\u001b[0;34m\u001b[0m\u001b[0;34m\u001b[0m\u001b[0m\n\u001b[0m\u001b[1;32m     51\u001b[0m     \u001b[0;32mif\u001b[0m \u001b[0mcanbeplaced\u001b[0m \u001b[0;34m==\u001b[0m \u001b[0;32mTrue\u001b[0m\u001b[0;34m:\u001b[0m\u001b[0;34m\u001b[0m\u001b[0;34m\u001b[0m\u001b[0m\n\u001b[1;32m     52\u001b[0m         \u001b[0mmap\u001b[0m\u001b[0;34m[\u001b[0m\u001b[0mr\u001b[0m\u001b[0;34m]\u001b[0m\u001b[0;34m[\u001b[0m\u001b[0mc\u001b[0m\u001b[0;34m]\u001b[0m \u001b[0;34m=\u001b[0m \u001b[0;34m'Q'\u001b[0m\u001b[0;34m\u001b[0m\u001b[0;34m\u001b[0m\u001b[0m\n",
            "\u001b[0;32m<ipython-input-11-587e46f57f04>\u001b[0m in \u001b[0;36mnqueen\u001b[0;34m(map, r, c, q)\u001b[0m\n\u001b[1;32m     48\u001b[0m \u001b[0;34m\u001b[0m\u001b[0m\n\u001b[1;32m     49\u001b[0m     \u001b[0;32mif\u001b[0m \u001b[0mcanbeplaced\u001b[0m \u001b[0;34m==\u001b[0m \u001b[0;32mFalse\u001b[0m \u001b[0;32mand\u001b[0m \u001b[0mc\u001b[0m \u001b[0;34m<\u001b[0m \u001b[0;36m4\u001b[0m\u001b[0;34m:\u001b[0m\u001b[0;34m\u001b[0m\u001b[0;34m\u001b[0m\u001b[0m\n\u001b[0;32m---> 50\u001b[0;31m         \u001b[0mnqueen\u001b[0m\u001b[0;34m(\u001b[0m\u001b[0mmap\u001b[0m\u001b[0;34m,\u001b[0m\u001b[0mr\u001b[0m\u001b[0;34m,\u001b[0m\u001b[0mc\u001b[0m\u001b[0;34m+\u001b[0m\u001b[0;36m1\u001b[0m\u001b[0;34m,\u001b[0m \u001b[0mq\u001b[0m\u001b[0;34m)\u001b[0m\u001b[0;34m\u001b[0m\u001b[0;34m\u001b[0m\u001b[0m\n\u001b[0m\u001b[1;32m     51\u001b[0m     \u001b[0;32mif\u001b[0m \u001b[0mcanbeplaced\u001b[0m \u001b[0;34m==\u001b[0m \u001b[0;32mTrue\u001b[0m\u001b[0;34m:\u001b[0m\u001b[0;34m\u001b[0m\u001b[0;34m\u001b[0m\u001b[0m\n\u001b[1;32m     52\u001b[0m         \u001b[0mmap\u001b[0m\u001b[0;34m[\u001b[0m\u001b[0mr\u001b[0m\u001b[0;34m]\u001b[0m\u001b[0;34m[\u001b[0m\u001b[0mc\u001b[0m\u001b[0;34m]\u001b[0m \u001b[0;34m=\u001b[0m \u001b[0;34m'Q'\u001b[0m\u001b[0;34m\u001b[0m\u001b[0;34m\u001b[0m\u001b[0m\n",
            "\u001b[0;32m<ipython-input-11-587e46f57f04>\u001b[0m in \u001b[0;36mnqueen\u001b[0;34m(map, r, c, q)\u001b[0m\n\u001b[1;32m     51\u001b[0m     \u001b[0;32mif\u001b[0m \u001b[0mcanbeplaced\u001b[0m \u001b[0;34m==\u001b[0m \u001b[0;32mTrue\u001b[0m\u001b[0;34m:\u001b[0m\u001b[0;34m\u001b[0m\u001b[0;34m\u001b[0m\u001b[0m\n\u001b[1;32m     52\u001b[0m         \u001b[0mmap\u001b[0m\u001b[0;34m[\u001b[0m\u001b[0mr\u001b[0m\u001b[0;34m]\u001b[0m\u001b[0;34m[\u001b[0m\u001b[0mc\u001b[0m\u001b[0;34m]\u001b[0m \u001b[0;34m=\u001b[0m \u001b[0;34m'Q'\u001b[0m\u001b[0;34m\u001b[0m\u001b[0;34m\u001b[0m\u001b[0m\n\u001b[0;32m---> 53\u001b[0;31m         \u001b[0mnqueen\u001b[0m\u001b[0;34m(\u001b[0m\u001b[0mmap\u001b[0m\u001b[0;34m,\u001b[0m\u001b[0mr\u001b[0m\u001b[0;34m+\u001b[0m\u001b[0;36m1\u001b[0m\u001b[0;34m,\u001b[0m\u001b[0;36m0\u001b[0m\u001b[0;34m,\u001b[0m\u001b[0mq\u001b[0m\u001b[0;34m-\u001b[0m\u001b[0;36m1\u001b[0m\u001b[0;34m)\u001b[0m\u001b[0;34m\u001b[0m\u001b[0;34m\u001b[0m\u001b[0m\n\u001b[0m\u001b[1;32m     54\u001b[0m         \u001b[0mmap\u001b[0m\u001b[0;34m[\u001b[0m\u001b[0mr\u001b[0m\u001b[0;34m]\u001b[0m\u001b[0;34m[\u001b[0m\u001b[0mc\u001b[0m\u001b[0;34m]\u001b[0m \u001b[0;34m=\u001b[0m \u001b[0;34m'0'\u001b[0m\u001b[0;34m\u001b[0m\u001b[0;34m\u001b[0m\u001b[0m\n\u001b[1;32m     55\u001b[0m     \u001b[0;32mif\u001b[0m \u001b[0mc\u001b[0m\u001b[0;34m<\u001b[0m\u001b[0;36m4\u001b[0m\u001b[0;34m:\u001b[0m\u001b[0;34m\u001b[0m\u001b[0;34m\u001b[0m\u001b[0m\n",
            "\u001b[0;32m<ipython-input-11-587e46f57f04>\u001b[0m in \u001b[0;36mnqueen\u001b[0;34m(map, r, c, q)\u001b[0m\n\u001b[1;32m     48\u001b[0m \u001b[0;34m\u001b[0m\u001b[0m\n\u001b[1;32m     49\u001b[0m     \u001b[0;32mif\u001b[0m \u001b[0mcanbeplaced\u001b[0m \u001b[0;34m==\u001b[0m \u001b[0;32mFalse\u001b[0m \u001b[0;32mand\u001b[0m \u001b[0mc\u001b[0m \u001b[0;34m<\u001b[0m \u001b[0;36m4\u001b[0m\u001b[0;34m:\u001b[0m\u001b[0;34m\u001b[0m\u001b[0;34m\u001b[0m\u001b[0m\n\u001b[0;32m---> 50\u001b[0;31m         \u001b[0mnqueen\u001b[0m\u001b[0;34m(\u001b[0m\u001b[0mmap\u001b[0m\u001b[0;34m,\u001b[0m\u001b[0mr\u001b[0m\u001b[0;34m,\u001b[0m\u001b[0mc\u001b[0m\u001b[0;34m+\u001b[0m\u001b[0;36m1\u001b[0m\u001b[0;34m,\u001b[0m \u001b[0mq\u001b[0m\u001b[0;34m)\u001b[0m\u001b[0;34m\u001b[0m\u001b[0;34m\u001b[0m\u001b[0m\n\u001b[0m\u001b[1;32m     51\u001b[0m     \u001b[0;32mif\u001b[0m \u001b[0mcanbeplaced\u001b[0m \u001b[0;34m==\u001b[0m \u001b[0;32mTrue\u001b[0m\u001b[0;34m:\u001b[0m\u001b[0;34m\u001b[0m\u001b[0;34m\u001b[0m\u001b[0m\n\u001b[1;32m     52\u001b[0m         \u001b[0mmap\u001b[0m\u001b[0;34m[\u001b[0m\u001b[0mr\u001b[0m\u001b[0;34m]\u001b[0m\u001b[0;34m[\u001b[0m\u001b[0mc\u001b[0m\u001b[0;34m]\u001b[0m \u001b[0;34m=\u001b[0m \u001b[0;34m'Q'\u001b[0m\u001b[0;34m\u001b[0m\u001b[0;34m\u001b[0m\u001b[0m\n",
            "\u001b[0;32m<ipython-input-11-587e46f57f04>\u001b[0m in \u001b[0;36mnqueen\u001b[0;34m(map, r, c, q)\u001b[0m\n\u001b[1;32m     48\u001b[0m \u001b[0;34m\u001b[0m\u001b[0m\n\u001b[1;32m     49\u001b[0m     \u001b[0;32mif\u001b[0m \u001b[0mcanbeplaced\u001b[0m \u001b[0;34m==\u001b[0m \u001b[0;32mFalse\u001b[0m \u001b[0;32mand\u001b[0m \u001b[0mc\u001b[0m \u001b[0;34m<\u001b[0m \u001b[0;36m4\u001b[0m\u001b[0;34m:\u001b[0m\u001b[0;34m\u001b[0m\u001b[0;34m\u001b[0m\u001b[0m\n\u001b[0;32m---> 50\u001b[0;31m         \u001b[0mnqueen\u001b[0m\u001b[0;34m(\u001b[0m\u001b[0mmap\u001b[0m\u001b[0;34m,\u001b[0m\u001b[0mr\u001b[0m\u001b[0;34m,\u001b[0m\u001b[0mc\u001b[0m\u001b[0;34m+\u001b[0m\u001b[0;36m1\u001b[0m\u001b[0;34m,\u001b[0m \u001b[0mq\u001b[0m\u001b[0;34m)\u001b[0m\u001b[0;34m\u001b[0m\u001b[0;34m\u001b[0m\u001b[0m\n\u001b[0m\u001b[1;32m     51\u001b[0m     \u001b[0;32mif\u001b[0m \u001b[0mcanbeplaced\u001b[0m \u001b[0;34m==\u001b[0m \u001b[0;32mTrue\u001b[0m\u001b[0;34m:\u001b[0m\u001b[0;34m\u001b[0m\u001b[0;34m\u001b[0m\u001b[0m\n\u001b[1;32m     52\u001b[0m         \u001b[0mmap\u001b[0m\u001b[0;34m[\u001b[0m\u001b[0mr\u001b[0m\u001b[0;34m]\u001b[0m\u001b[0;34m[\u001b[0m\u001b[0mc\u001b[0m\u001b[0;34m]\u001b[0m \u001b[0;34m=\u001b[0m \u001b[0;34m'Q'\u001b[0m\u001b[0;34m\u001b[0m\u001b[0;34m\u001b[0m\u001b[0m\n",
            "\u001b[0;32m<ipython-input-11-587e46f57f04>\u001b[0m in \u001b[0;36mnqueen\u001b[0;34m(map, r, c, q)\u001b[0m\n\u001b[1;32m     38\u001b[0m     \u001b[0mtemp_c\u001b[0m \u001b[0;34m=\u001b[0m \u001b[0mc\u001b[0m\u001b[0;34m\u001b[0m\u001b[0;34m\u001b[0m\u001b[0m\n\u001b[1;32m     39\u001b[0m     \u001b[0;32mwhile\u001b[0m \u001b[0mtemp_r\u001b[0m\u001b[0;34m>\u001b[0m\u001b[0;36m0\u001b[0m \u001b[0;32mand\u001b[0m \u001b[0mtemp_c\u001b[0m\u001b[0;34m<\u001b[0m\u001b[0;36m4\u001b[0m\u001b[0;34m:\u001b[0m\u001b[0;34m\u001b[0m\u001b[0;34m\u001b[0m\u001b[0m\n\u001b[0;32m---> 40\u001b[0;31m         \u001b[0;32mif\u001b[0m \u001b[0mmap\u001b[0m\u001b[0;34m[\u001b[0m\u001b[0mtemp_r\u001b[0m\u001b[0;34m-\u001b[0m\u001b[0;36m1\u001b[0m\u001b[0;34m]\u001b[0m\u001b[0;34m[\u001b[0m\u001b[0mtemp_c\u001b[0m\u001b[0;34m+\u001b[0m\u001b[0;36m1\u001b[0m\u001b[0;34m]\u001b[0m \u001b[0;34m==\u001b[0m \u001b[0;34m'Q'\u001b[0m\u001b[0;34m:\u001b[0m\u001b[0;34m\u001b[0m\u001b[0;34m\u001b[0m\u001b[0m\n\u001b[0m\u001b[1;32m     41\u001b[0m             \u001b[0mcanbeplaced\u001b[0m \u001b[0;34m=\u001b[0m \u001b[0;32mFalse\u001b[0m\u001b[0;34m\u001b[0m\u001b[0;34m\u001b[0m\u001b[0m\n\u001b[1;32m     42\u001b[0m             \u001b[0mtemp_r\u001b[0m \u001b[0;34m-=\u001b[0m \u001b[0;36m1\u001b[0m\u001b[0;34m\u001b[0m\u001b[0;34m\u001b[0m\u001b[0m\n",
            "\u001b[0;31mIndexError\u001b[0m: list index out of range"
          ]
        }
      ]
    },
    {
      "cell_type": "code",
      "source": [
        "def issafe(board, r, c):\n",
        "    #check up\n",
        "    temp_r = r\n",
        "    while(temp_r>0):\n",
        "        if board[temp_r-1][c] == 'Q':\n",
        "            return False\n",
        "        temp_r -= 1\n",
        "    #check diagonal left\n",
        "    temp_r= r\n",
        "    temp_c = c\n",
        "    while(temp_r>0 and temp_c >0):\n",
        "        if board[temp_r-1][temp_c-1] == 'Q':\n",
        "            return False\n",
        "        temp_r -= 1\n",
        "        temp_c-= 1\n",
        "    #check diagonal right\n",
        "    temp_r = r\n",
        "    temp_c = c\n",
        "    while(temp_r>0 and temp_c < len(board[0])-1):\n",
        "        if board[temp_r-1][temp_c+1] == 'Q':\n",
        "            return False\n",
        "        temp_r -= 1\n",
        "        temp_c += 1\n",
        "    return True\n",
        "\n",
        "\n",
        "def nqueens(board, r):\n",
        "    if r == len(board):\n",
        "        for i in board:\n",
        "            print(i)\n",
        "        print()\n",
        "        return 1\n",
        "    count = 0\n",
        "    for c in range(0,len(board[0])):\n",
        "        checksafety = issafe(board, r, c)\n",
        "        if checksafety:\n",
        "            board[r][c] = 'Q'\n",
        "            count += nqueens(board, r+1)\n",
        "            board[r][c] = '0'\n",
        "    return count\n",
        "\n",
        "\n",
        "\n",
        "# #NQueens problem\n",
        "# map = [['0','0','0','0','0'],\n",
        "#        ['0','0','0','0','0'],\n",
        "#        ['0','0','0','0','0'],\n",
        "#        ['0','0','0','0','0'],\n",
        "#        ['0','0','0','0','0']\n",
        "#        ]\n",
        "\n",
        "map = [['0','0','0','0','0','0'],\n",
        "       ['0','0','0','0','0','0'],\n",
        "        ['0','0','0','0','0','0'],\n",
        "        ['0','0','0','0','0','0'],\n",
        "       ['0','0','0','0','0','0'],\n",
        "       ['0','0','0','0','0','0']\n",
        "       ]\n",
        "nqueens(map,0)"
      ],
      "metadata": {
        "colab": {
          "base_uri": "https://localhost:8080/"
        },
        "id": "Txp92BnxImHM",
        "outputId": "9a3b28a5-a676-46ac-89fc-fbc4c92e027d"
      },
      "execution_count": null,
      "outputs": [
        {
          "output_type": "stream",
          "name": "stdout",
          "text": [
            "['0', 'Q', '0', '0', '0', '0']\n",
            "['0', '0', '0', 'Q', '0', '0']\n",
            "['0', '0', '0', '0', '0', 'Q']\n",
            "['Q', '0', '0', '0', '0', '0']\n",
            "['0', '0', 'Q', '0', '0', '0']\n",
            "['0', '0', '0', '0', 'Q', '0']\n",
            "\n",
            "['0', '0', 'Q', '0', '0', '0']\n",
            "['0', '0', '0', '0', '0', 'Q']\n",
            "['0', 'Q', '0', '0', '0', '0']\n",
            "['0', '0', '0', '0', 'Q', '0']\n",
            "['Q', '0', '0', '0', '0', '0']\n",
            "['0', '0', '0', 'Q', '0', '0']\n",
            "\n",
            "['0', '0', '0', 'Q', '0', '0']\n",
            "['Q', '0', '0', '0', '0', '0']\n",
            "['0', '0', '0', '0', 'Q', '0']\n",
            "['0', 'Q', '0', '0', '0', '0']\n",
            "['0', '0', '0', '0', '0', 'Q']\n",
            "['0', '0', 'Q', '0', '0', '0']\n",
            "\n",
            "['0', '0', '0', '0', 'Q', '0']\n",
            "['0', '0', 'Q', '0', '0', '0']\n",
            "['Q', '0', '0', '0', '0', '0']\n",
            "['0', '0', '0', '0', '0', 'Q']\n",
            "['0', '0', '0', 'Q', '0', '0']\n",
            "['0', 'Q', '0', '0', '0', '0']\n",
            "\n"
          ]
        },
        {
          "output_type": "execute_result",
          "data": {
            "text/plain": [
              "4"
            ]
          },
          "metadata": {},
          "execution_count": 23
        }
      ]
    },
    {
      "cell_type": "code",
      "source": [],
      "metadata": {
        "id": "ndosMJy7JjIM"
      },
      "execution_count": null,
      "outputs": []
    }
  ]
}