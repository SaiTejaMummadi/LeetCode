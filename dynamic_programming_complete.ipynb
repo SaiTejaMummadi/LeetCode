{
  "nbformat": 4,
  "nbformat_minor": 0,
  "metadata": {
    "colab": {
      "provenance": []
    },
    "kernelspec": {
      "name": "python3",
      "display_name": "Python 3"
    },
    "language_info": {
      "name": "python"
    }
  },
  "cells": [
    {
      "cell_type": "code",
      "execution_count": null,
      "metadata": {
        "colab": {
          "base_uri": "https://localhost:8080/"
        },
        "id": "VxwaXUYggbwt",
        "outputId": "74bbe844-e4d2-45a3-bac4-fb96ae8e6b7c"
      },
      "outputs": [
        {
          "output_type": "execute_result",
          "data": {
            "text/plain": [
              "5"
            ]
          },
          "metadata": {},
          "execution_count": 4
        }
      ],
      "source": [
        "# Fibonacci numbers\n",
        "\n",
        "#find fibonacci number with a memoization table\n",
        "#top down\n",
        "def fib(n, memo):\n",
        "    if n<=1:\n",
        "        return n\n",
        "    if n in memo:\n",
        "        return memo[n]\n",
        "    ans = fib(n-1, memo) + fib(n-2, memo)\n",
        "    memo[n] = ans\n",
        "    return memo[n]\n",
        "memo = {}\n",
        "fib(6, memo)\n",
        "\n",
        "#bottom up\n",
        "def fib(n):\n",
        "    memo = {}\n",
        "    memo[0] = 0\n",
        "    memo [1] = 1\n",
        "    for i in range(2,n+1):\n",
        "        memo[i] = memo[i-1] + memo[i-2]\n",
        "    return memo[n]\n",
        "fib(5)\n",
        "\n",
        "\n"
      ]
    },
    {
      "cell_type": "code",
      "source": [
        "# Climbing stairs\n",
        "#Can take one step or can take two steps\n",
        "#find the different possible ways to reach a step\n",
        "#for example,\n",
        "# 3 -> 1,1,1\n",
        "# 3 -> 1,2\n",
        "# 3 -> 2,1\n",
        "#top down\n",
        "def climbing(n, memo):\n",
        "    if n == 0:\n",
        "        return 1\n",
        "    if n == 2:\n",
        "        return 2\n",
        "    if n == 1:\n",
        "        return 1\n",
        "    if n in memo:\n",
        "        return memo[n]\n",
        "    steps = climbing(n-1, memo) + climbing(n-2, memo)\n",
        "    memo[n] = steps\n",
        "    return memo[n]\n",
        "memo = {}\n",
        "print(climbing(5,memo))\n",
        "\n",
        "#bottom up\n",
        "def climbing(n):\n",
        "    memo= {}\n",
        "    memo[0] = 1\n",
        "    memo[1] = 1\n",
        "    memo[2] = 2\n",
        "    for i in range(3, n+1):\n",
        "        memo[i] = memo[i-1] + memo[i-2]\n",
        "    return memo[n]\n",
        "climbing(5)\n",
        "\n",
        "\n",
        "\n"
      ],
      "metadata": {
        "colab": {
          "base_uri": "https://localhost:8080/"
        },
        "id": "TxmTZCMWjvx1",
        "outputId": "fa696da8-3b05-402d-95e2-e36a14f4a812"
      },
      "execution_count": null,
      "outputs": [
        {
          "output_type": "stream",
          "name": "stdout",
          "text": [
            "8\n"
          ]
        },
        {
          "output_type": "execute_result",
          "data": {
            "text/plain": [
              "8"
            ]
          },
          "metadata": {},
          "execution_count": 14
        }
      ]
    },
    {
      "cell_type": "code",
      "source": [
        "#Frog Jump Problem\n",
        "# a frog can jump over the steps, but each step has an energy consumed value,\n",
        "#Frog can jump one step or two steps\n",
        "#find the minimum energy required to reach certain length\n",
        "\n",
        "#Top down\n",
        "#THIS CODE DOES NOT WORK FOR OBVIOUS REASONS -\n",
        "#Not calculating the absolute of height difference and responding with heights[0] when in zeroth position like we are in imaginary -1 position, so dumb\n",
        "\n",
        "memo = {}\n",
        "heights = [10,30,20,40,20]\n",
        "def frogjump(n, memo, heights):\n",
        "    if n ==0:\n",
        "        return heights[0]\n",
        "    if n in memo:\n",
        "        return memo[n]\n",
        "    single_jump = frogjump(n-1, memo, heights) + heights[n]\n",
        "    double_jump = float('inf')\n",
        "    if n >1:\n",
        "        double_jump = frogjump(n-2, memo, heights) + heights[n]\n",
        "    optimal_jump = min(single_jump, double_jump)\n",
        "    memo[n] = optimal_jump\n",
        "    return memo[n]\n",
        "frogjump(3, memo, heights)\n"
      ],
      "metadata": {
        "colab": {
          "base_uri": "https://localhost:8080/"
        },
        "id": "_QeG6_wtn5oM",
        "outputId": "14d33583-c456-4042-a00d-09f0cf7447f9"
      },
      "execution_count": null,
      "outputs": [
        {
          "output_type": "execute_result",
          "data": {
            "text/plain": [
              "70"
            ]
          },
          "metadata": {},
          "execution_count": 14
        }
      ]
    },
    {
      "cell_type": "code",
      "source": [
        "# Write your code here.\n",
        "memo = {}\n",
        "def jump(n, heights, memo):\n",
        "    if n < 0:\n",
        "        return float(\"inf\")\n",
        "    if n == 0:\n",
        "        return 0\n",
        "    if n in memo:\n",
        "        return memo[n]\n",
        "    single_stair = jump(n-1, heights, memo) + abs(heights[n-1]-heights[n])\n",
        "    if n>1:\n",
        "        double_stair = jump(n-2, heights,memo) + abs(heights[n-2]-heights[n])\n",
        "    else:\n",
        "        double_stair = float('inf')\n",
        "    optimal_stair = min(single_stair, double_stair)\n",
        "    memo[n] = optimal_stair\n",
        "    return memo[n]\n",
        "\n",
        "heights = [10,20,30,10]\n",
        "n = 3\n",
        "memo = {}\n",
        "print(jump(n,heights,memo))\n",
        "\n",
        "heights = [10,50,10]\n",
        "n = 2\n",
        "memo = {}\n",
        "print(jump(n,heights,memo))\n",
        "\n",
        "def run_test(heights, n, expected):\n",
        "    memo = {}\n",
        "    result = jump(n, heights, memo)\n",
        "    print(f\"Heights: {heights}, n: {n}, Expected: {expected}, Result: {result}, Pass: {result == expected}\")\n",
        "\n",
        "# Test Cases\n",
        "print(\"Basic test cases:\")\n",
        "run_test([10, 20, 30, 10], 3, 20)  # Corrected from 30 to 20\n",
        "run_test([10, 50, 10], 2, 0)\n",
        "\n",
        "print(\"\\nIncreasing/Decreasing height patterns:\")\n",
        "run_test([10, 20, 30, 40, 50], 4, 40)\n",
        "run_test([50, 40, 30, 20, 10], 4, 40)\n",
        "\n",
        "print(\"\\nAlternating heights:\")\n",
        "run_test([10, 30, 10, 30, 10], 4, 0)  # Corrected from 0 to 20\n",
        "run_test([5, 15, 5, 15, 5, 15], 5, 10)\n",
        "\n",
        "print(\"\\nEqual heights:\")\n",
        "run_test([10, 10, 10, 10, 10], 4, 0)\n",
        "run_test([7, 7, 7, 7], 3, 0)\n",
        "\n",
        "print(\"\\nEdge cases:\")\n",
        "run_test([10], 0, 0)\n",
        "run_test([10, 20], 1, 10)\n",
        "\n",
        "print(\"\\nLarge differences:\")\n",
        "run_test([10, 100, 1000, 10000], 3, 9990)  # Corrected from 9090 to 9990\n",
        "run_test([1, 100, 1, 100], 3, 99)"
      ],
      "metadata": {
        "id": "d-YsOrW3oOJW",
        "colab": {
          "base_uri": "https://localhost:8080/"
        },
        "outputId": "96241261-cec0-4b24-9a67-e7baa80978c5"
      },
      "execution_count": null,
      "outputs": [
        {
          "output_type": "stream",
          "name": "stdout",
          "text": [
            "20\n",
            "0\n",
            "Basic test cases:\n",
            "Heights: [10, 20, 30, 10], n: 3, Expected: 20, Result: 20, Pass: True\n",
            "Heights: [10, 50, 10], n: 2, Expected: 0, Result: 0, Pass: True\n",
            "\n",
            "Increasing/Decreasing height patterns:\n",
            "Heights: [10, 20, 30, 40, 50], n: 4, Expected: 40, Result: 40, Pass: True\n",
            "Heights: [50, 40, 30, 20, 10], n: 4, Expected: 40, Result: 40, Pass: True\n",
            "\n",
            "Alternating heights:\n",
            "Heights: [10, 30, 10, 30, 10], n: 4, Expected: 0, Result: 0, Pass: True\n",
            "Heights: [5, 15, 5, 15, 5, 15], n: 5, Expected: 10, Result: 10, Pass: True\n",
            "\n",
            "Equal heights:\n",
            "Heights: [10, 10, 10, 10, 10], n: 4, Expected: 0, Result: 0, Pass: True\n",
            "Heights: [7, 7, 7, 7], n: 3, Expected: 0, Result: 0, Pass: True\n",
            "\n",
            "Edge cases:\n",
            "Heights: [10], n: 0, Expected: 0, Result: 0, Pass: True\n",
            "Heights: [10, 20], n: 1, Expected: 10, Result: 10, Pass: True\n",
            "\n",
            "Large differences:\n",
            "Heights: [10, 100, 1000, 10000], n: 3, Expected: 9990, Result: 9990, Pass: True\n",
            "Heights: [1, 100, 1, 100], n: 3, Expected: 99, Result: 99, Pass: True\n"
          ]
        }
      ]
    },
    {
      "cell_type": "code",
      "source": [
        "#A frog can jump, but it can jump from last k elements, how are you gonna do this??\n",
        "#Lololol, very easy\n",
        "#Lololol, not very easy, brain is not braining\n",
        "\n",
        "def frogjumpk_old(n,k, heights, memo):\n",
        "    if n ==0:\n",
        "        return 0\n",
        "    if n in memo:\n",
        "        return memo[n]\n",
        "    if n < 0:\n",
        "        return float('inf')\n",
        "    minimum_at_stage = float('inf')\n",
        "    for i in range(1,k+1):\n",
        "        # # Do you want to reduce the function calls? Yes.\n",
        "        ans = float('inf')\n",
        "        if n-i >=0:\n",
        "            ans = abs(frogjumpk(n-i,k, heights, memo) - frogjumpk(n,k,heights,memo))\n",
        "        minimum_at_stage = min(ans, minimum_at_stage)\n",
        "    memo[n] = minimum_at_stage\n",
        "    return memo[n]\n",
        "\n",
        "\n",
        "#Let me write again\n",
        "#minimum cost for the frog to reach n, where is could jump from the last k stairs, denamma frog\n",
        "\n",
        "def frogjumpk(n,k,heights, memo):\n",
        "    if n==0:\n",
        "        return 0\n",
        "    if n in memo:\n",
        "        return memo[n]\n",
        "    minimum_to_reach_here = float('inf')\n",
        "    for i in range(1,k+1):\n",
        "        if n -i >=0:\n",
        "            minimum_to_reach_here = min(frogjumpk(n-i,k,heights,memo)+abs(heights[n-i]-heights[n]),minimum_to_reach_here)\n",
        "    memo[n] = minimum_to_reach_here\n",
        "    return memo[n]\n",
        "\n",
        "\n",
        "#This is some absolute mind bending shit, like goddamn,\n",
        "# i need to write something like this to make this work: min(frogjumpk(n-i,k,heights,memo)+abs(heights[n-i]-heights[n]),minimum_to_reach_here)\n",
        "\n",
        "\n",
        "heights = [10, 30, 40, 50, 20]\n",
        "k = 3\n",
        "n = 4\n",
        "memo = {}\n",
        "# Expected value 30\n",
        "frogjumpk(n,k, heights, memo)\n",
        "\n",
        "\n",
        "def run_test(heights,k, n, expected):\n",
        "    memo = {}\n",
        "    result = frogjumpk(n,k, heights, memo)\n",
        "    print(f\"Heights: {heights},k: {k}, n: {n}, Expected: {expected}, Result: {result}, Pass: {result == expected}\")\n",
        "\n",
        "# Test Cases\n",
        "print(\"Basic test cases:\")\n",
        "run_test([10, 30, 40, 50, 20],3, 4, 30)\n",
        "\n",
        "\n",
        "# Test Cases\n",
        "print(\"Basic test cases:\")\n",
        "run_test([10, 30, 40, 50, 20], 3, 4, 30)\n",
        "run_test([10, 20, 30, 10], 2, 3, 20)\n",
        "\n",
        "print(\"\\nVarious k values:\")\n",
        "run_test([10, 30, 20, 10], 1, 3, 40)  # k=1 means only 1-step jumps allowed\n",
        "run_test([10, 30, 20, 10], 2, 3, 20)  # k=2 allows both 1-step and 2-step jumps\n",
        "run_test([10, 30, 20, 10], 3, 3, 0)   # k=3 allows direct jump from 0 to 3 with cost |10-10|=0\n",
        "\n",
        "print(\"\\nLonger sequences:\")\n",
        "run_test([10, 20, 30, 40, 50, 60, 70], 1, 6, 60)  # k=1: must make all individual jumps\n",
        "run_test([10, 20, 30, 40, 50, 60, 70], 2, 6, 60)  # k=2: same cost, but different path\n",
        "run_test([10, 20, 30, 40, 50, 60, 70], 3, 6, 60)  # k=3: same cost, even more path options\n",
        "run_test([10, 20, 30, 40, 50, 60, 70], 6, 6, 60)  # k=6: allows direct jump from 0 to 6\n",
        "\n",
        "print(\"\\nOptimal jumps with different k values:\")\n",
        "run_test([10, 100, 10, 100, 10], 1, 4, 360)  # k=1: must visit all stones\n",
        "run_test([10, 100, 10, 100, 10], 2, 4, 0)    # k=2: can jump 0->2->4 with cost 0\n",
        "run_test([10, 100, 1000, 100, 10], 2, 4, 180)  # k=2: best path is 0->2->4\n",
        "\n",
        "print(\"\\nComplex patterns:\")\n",
        "run_test([30, 10, 60, 10, 60, 50], 2, 5, 40)  # k=2\n",
        "run_test([30, 10, 60, 10, 60, 50], 3, 5, 40)\n",
        "\n"
      ],
      "metadata": {
        "id": "M8lgXycaoOGQ",
        "colab": {
          "base_uri": "https://localhost:8080/"
        },
        "outputId": "c796c285-339c-42d5-e1c7-091d5d91b21c"
      },
      "execution_count": null,
      "outputs": [
        {
          "output_type": "stream",
          "name": "stdout",
          "text": [
            "Basic test cases:\n",
            "Heights: [10, 30, 40, 50, 20],k: 3, n: 4, Expected: 30, Result: 30, Pass: True\n",
            "Basic test cases:\n",
            "Heights: [10, 30, 40, 50, 20],k: 3, n: 4, Expected: 30, Result: 30, Pass: True\n",
            "Heights: [10, 20, 30, 10],k: 2, n: 3, Expected: 20, Result: 20, Pass: True\n",
            "\n",
            "Various k values:\n",
            "Heights: [10, 30, 20, 10],k: 1, n: 3, Expected: 40, Result: 40, Pass: True\n",
            "Heights: [10, 30, 20, 10],k: 2, n: 3, Expected: 20, Result: 20, Pass: True\n",
            "Heights: [10, 30, 20, 10],k: 3, n: 3, Expected: 0, Result: 0, Pass: True\n",
            "\n",
            "Longer sequences:\n",
            "Heights: [10, 20, 30, 40, 50, 60, 70],k: 1, n: 6, Expected: 60, Result: 60, Pass: True\n",
            "Heights: [10, 20, 30, 40, 50, 60, 70],k: 2, n: 6, Expected: 60, Result: 60, Pass: True\n",
            "Heights: [10, 20, 30, 40, 50, 60, 70],k: 3, n: 6, Expected: 60, Result: 60, Pass: True\n",
            "Heights: [10, 20, 30, 40, 50, 60, 70],k: 6, n: 6, Expected: 60, Result: 60, Pass: True\n",
            "\n",
            "Optimal jumps with different k values:\n",
            "Heights: [10, 100, 10, 100, 10],k: 1, n: 4, Expected: 360, Result: 360, Pass: True\n",
            "Heights: [10, 100, 10, 100, 10],k: 2, n: 4, Expected: 0, Result: 0, Pass: True\n",
            "Heights: [10, 100, 1000, 100, 10],k: 2, n: 4, Expected: 180, Result: 180, Pass: True\n",
            "\n",
            "Complex patterns:\n",
            "Heights: [30, 10, 60, 10, 60, 50],k: 2, n: 5, Expected: 40, Result: 40, Pass: True\n",
            "Heights: [30, 10, 60, 10, 60, 50],k: 3, n: 5, Expected: 40, Result: 40, Pass: True\n"
          ]
        }
      ]
    },
    {
      "cell_type": "code",
      "source": [
        "# House robber problem\n"
      ],
      "metadata": {
        "id": "AUEeQZVYoOBD"
      },
      "execution_count": null,
      "outputs": []
    },
    {
      "cell_type": "markdown",
      "source": [
        "You are a professional robber planning to rob houses along a street. Each house has a certain amount of money stashed, the only constraint stopping you from robbing each of them is that adjacent houses have security systems connected and it will automatically contact the police if two adjacent houses were broken into on the same night.\n",
        "\n",
        "Given an integer array nums representing the amount of money of each house, return the maximum amount of money you can rob tonight without alerting the police.\n",
        "\n",
        "\n",
        "\n",
        "Example 1:\n",
        "\n",
        "Input: nums = [1,2,3,1]\n",
        "Output: 4\n",
        "Explanation: Rob house 1 (money = 1) and then rob house 3 (money = 3).\n",
        "Total amount you can rob = 1 + 3 = 4."
      ],
      "metadata": {
        "id": "SJotVZ9BbA0c"
      }
    },
    {
      "cell_type": "code",
      "source": [
        "def house_robber(n,houses, memo):\n",
        "    if n == 0:\n",
        "        return houses[n]\n",
        "    if n <0:\n",
        "        return 0\n",
        "    if n in memo:\n",
        "        return memo[n]\n",
        "\n",
        "    pick_house = house_robber(n-2, houses, memo) + houses[n]\n",
        "    not_pick_house = house_robber(n-1, houses, memo)\n",
        "    best_option = max(pick_house, not_pick_house)\n",
        "    memo[n] = best_option\n",
        "    return memo[n]\n",
        "house_robber(3,[1,2,3,1], {})"
      ],
      "metadata": {
        "id": "4Du9OJByoN70",
        "colab": {
          "base_uri": "https://localhost:8080/"
        },
        "outputId": "073e979a-40aa-49fb-acf7-f4baf77c0c53"
      },
      "execution_count": null,
      "outputs": [
        {
          "output_type": "execute_result",
          "data": {
            "text/plain": [
              "4"
            ]
          },
          "metadata": {},
          "execution_count": 11
        }
      ]
    },
    {
      "cell_type": "code",
      "source": [
        "# Doing the house robber with tabulation\n",
        "#This one does not work,\n",
        "def house_robber(n,houses, memo):\n",
        "    even_sum = 0\n",
        "    odd_sum = 0\n",
        "    for i in range(0,n+1):\n",
        "        if i%2 == 0:\n",
        "            even_sum += houses[i]\n",
        "        else:\n",
        "            odd_sum += houses[i]\n",
        "    return max(even_sum, odd_sum)\n",
        "house_robber(3,[1,2,3,1], {})\n",
        "\n"
      ],
      "metadata": {
        "id": "tpohtgi2oN5K",
        "colab": {
          "base_uri": "https://localhost:8080/"
        },
        "outputId": "6a7c9062-80c2-4588-f9b6-3a058e6b8129"
      },
      "execution_count": null,
      "outputs": [
        {
          "output_type": "execute_result",
          "data": {
            "text/plain": [
              "4"
            ]
          },
          "metadata": {},
          "execution_count": 12
        }
      ]
    },
    {
      "cell_type": "code",
      "source": [
        "# House Robber 2, this time the houses are in circles:\n",
        "#The solution is to write the same house robber program,\n",
        "#create two sub arrays, where first array considers first house and the second array considers last element\n",
        "#now pass them to the original solution and find the maximum of it\n",
        "\n",
        "memo = {}\n",
        "houses = [5,2,7,8,9,6]\n",
        "n = 6\n",
        "def house_robber(n,houses, memo):\n",
        "    if n ==0:\n",
        "        return houses[0]\n",
        "    if n in memo:\n",
        "        return memo[n]\n",
        "    pick_one = houses[n]\n",
        "    if n >1:\n",
        "        pick_one += house_robber(n-2, houses, memo)\n",
        "    do_not_pick = house_robber(n-1, houses, memo)\n",
        "\n",
        "    memo[n] = max(pick_one, do_not_pick)\n",
        "    return memo[n]\n",
        "\n",
        "house_robber(n-1,houses, memo)\n"
      ],
      "metadata": {
        "id": "p0jN9EaJoN25",
        "colab": {
          "base_uri": "https://localhost:8080/"
        },
        "outputId": "8360c708-ccf2-4cd8-ea0f-989c9460f9e8"
      },
      "execution_count": null,
      "outputs": [
        {
          "output_type": "execute_result",
          "data": {
            "text/plain": [
              "21"
            ]
          },
          "metadata": {},
          "execution_count": 12
        }
      ]
    },
    {
      "cell_type": "code",
      "source": [
        "# Ninja training:\n",
        "# there are n days, each day a ninja can perform k trainings,\n",
        "# cant perform the same training in two consecutive days,\n",
        "# what is the maximum score he can get\n",
        "\n",
        "n = 3\n",
        "k = 3\n",
        "arr = [\n",
        "    [1,2,5],\n",
        "    [3,1,1],\n",
        "    [3,3,3]\n",
        "]\n",
        "\n",
        "memo = [[0,0,0],\n",
        "        [0,0,0],\n",
        "        [0,0,0]]\n",
        "\n",
        "def ninja(n,k,arr,current_k,prev_k, memo):\n",
        "    if n < 0:\n",
        "        return 0\n",
        "\n",
        "    if memo[n][k] != 0:\n",
        "        return memo[n][k]\n",
        "\n",
        "    max_point = 0\n",
        "    for i in range(0,k+1):\n",
        "        if i == prev_k:\n",
        "            continue\n",
        "        else:\n",
        "            pick_answer = ninja(n-1,k,arr,i,i,memo) + arr[n][i]\n",
        "            max_point = max(max_point, pick_answer)\n",
        "\n",
        "    memo[n][current_k] = max_point\n",
        "    return memo[n][k]\n",
        "\n",
        "ninja(n-1,k-1,arr,0,-1,memo)\n",
        "\n",
        "\n",
        "#did not solve this, need a fresh mind, will try again tomorrow\n",
        "\n"
      ],
      "metadata": {
        "id": "b4QKwBgXoN0o",
        "colab": {
          "base_uri": "https://localhost:8080/"
        },
        "outputId": "c087164c-a8fa-4ce4-d5fb-313e8a19e252"
      },
      "execution_count": null,
      "outputs": [
        {
          "output_type": "execute_result",
          "data": {
            "text/plain": [
              "0"
            ]
          },
          "metadata": {},
          "execution_count": 50
        }
      ]
    },
    {
      "cell_type": "code",
      "source": [
        "# Solving the above problem again\n",
        "\n",
        "n = 3\n",
        "k = 3\n",
        "arr = [\n",
        "    [1,2,5],\n",
        "    [3,1,1],\n",
        "    [3,3,3]\n",
        "]\n",
        "\n",
        "memo = [[0,0,0],\n",
        "        [0,0,0],\n",
        "        [0,0,0]]\n",
        "\n",
        "#A way to look memo table: if i choose this task, the maximum i could get is this much\n",
        "\n",
        "def ninja(memo, arr, previous, r,c):\n",
        "    if memo[r][c] != 0:\n",
        "        return memo[r][c]\n",
        "    if r <0:\n",
        "        return 0\n",
        "    maxi = 0\n",
        "    for i in range(len(arr[0])):\n",
        "        if i != previous:\n",
        "            picktoday = ninja(memo,arr,i,r-1,i) + arr[r][i]\n",
        "            if picktoday > maxi:\n",
        "                maxi = picktoday\n",
        "            memo[r][i] = picktoday\n",
        "    return maxi\n",
        "ninja(memo,arr,-1,2,0)\n",
        "\n",
        "\n",
        "\n",
        "\n"
      ],
      "metadata": {
        "id": "fjbUAnehoNrT",
        "colab": {
          "base_uri": "https://localhost:8080/"
        },
        "outputId": "c97a8450-f6ec-420c-b66b-9c2c40fbeba7"
      },
      "execution_count": null,
      "outputs": [
        {
          "output_type": "execute_result",
          "data": {
            "text/plain": [
              "9"
            ]
          },
          "metadata": {},
          "execution_count": 5
        }
      ]
    },
    {
      "cell_type": "code",
      "source": [
        "#A truly new way and the only way to look at the memoization table,\n",
        "#The table must  have 4 columns and 3 rows, that extra column is used to store\n",
        "#the final answer in the last day, i dont know why the author is doing this but lets implement this\n",
        "\n",
        "n = 3\n",
        "k = 3\n",
        "arr = [\n",
        "    [1,2,5],\n",
        "    [3,1,1],\n",
        "    [3,3,3]\n",
        "]\n",
        "\n",
        "memo = [[0,0,0,0],\n",
        "        [0,0,0,0],\n",
        "        [0,0,0,0]]\n",
        "\n",
        "def ninja(memo, arr, previous_task, day):\n",
        "    if day < 0:\n",
        "        return 0\n",
        "\n",
        "    if memo[day][previous_task] != 0:\n",
        "        return memo[day][previous_task]\n",
        "\n",
        "    current_level_max = 0\n",
        "\n",
        "    for i in range(0,len(arr[0])):\n",
        "\n",
        "        if i != previous_task:\n",
        "            picktoday = arr[day][i] + ninja(memo,arr, i, day-1)\n",
        "            current_level_max = max(picktoday, current_level_max)\n",
        "\n",
        "    memo[day][previous_task] = current_level_max\n",
        "\n",
        "    return memo[day][previous_task]\n",
        "\n",
        "ninja(memo, arr, 3,2)\n",
        "\n",
        "#Not very intuitive at all, like goddamn, we need to store the\n",
        "#variable in the additional space, so that we can force the memoization table to work with it\n",
        "\n"
      ],
      "metadata": {
        "colab": {
          "base_uri": "https://localhost:8080/"
        },
        "id": "2VRLNdvHpIVQ",
        "outputId": "d4f314f0-1678-4475-9238-383a427d1d18"
      },
      "execution_count": null,
      "outputs": [
        {
          "output_type": "execute_result",
          "data": {
            "text/plain": [
              "11"
            ]
          },
          "metadata": {},
          "execution_count": 8
        }
      ]
    },
    {
      "cell_type": "code",
      "source": [
        "#total number of paths problem on  a grid\n",
        "\n",
        "# can only go down and right or( up or left)\n",
        "#Apply memoization\n",
        "\n",
        "#How many paths to reach 5,5 from 0,0 on an 5x5 grid\n",
        "\n",
        "grid = [[0,0,0,0,0],\n",
        " [0,0,0,0,0],\n",
        " [0,0,0,0,0],\n",
        " [0,0,0,0,0],\n",
        " [0,0,0,0,0]\n",
        " ]"
      ],
      "metadata": {
        "id": "iiRXaAKQvhAs"
      },
      "execution_count": null,
      "outputs": []
    },
    {
      "cell_type": "code",
      "source": [
        "\n",
        "def grid_paths(row, col, memo):\n",
        "    if row ==0 and col ==0:\n",
        "        return 1\n",
        "    if memo[row][col] != -1:\n",
        "        return memo[row][col]\n",
        "    if row <0:\n",
        "        return 0\n",
        "    if col < 0:\n",
        "        return 0\n",
        "    total_paths = 0\n",
        "    up = grid_paths(row-1, col, memo)\n",
        "    left = grid_paths(row, col-1, memo)\n",
        "    total_paths = up + left\n",
        "    memo[row][col] = total_paths\n",
        "    return memo[row][col]\n",
        "\n",
        "memo = [[-1,-1,-1,-1,-1],\n",
        " [-1,-1,-1,-1,-1],\n",
        " [-1,-1,-1,-1,-1],\n",
        " [-1,-1,-1,-1,-1],\n",
        " [-1,-1,-1,-1,-1]\n",
        " ]\n",
        "grid_paths(4,4,memo)\n"
      ],
      "metadata": {
        "colab": {
          "base_uri": "https://localhost:8080/"
        },
        "id": "pOHuu7_Y69_L",
        "outputId": "3610f280-a63f-4c6c-9c1c-455a24ff7efe"
      },
      "execution_count": null,
      "outputs": [
        {
          "output_type": "execute_result",
          "data": {
            "text/plain": [
              "70"
            ]
          },
          "metadata": {},
          "execution_count": 2
        }
      ]
    },
    {
      "cell_type": "code",
      "source": [
        "memo = [[-1 for i in range(3)] for i in range(3)]"
      ],
      "metadata": {
        "id": "NbzSkvlL9gfJ"
      },
      "execution_count": null,
      "outputs": []
    },
    {
      "cell_type": "code",
      "source": [
        "memo"
      ],
      "metadata": {
        "colab": {
          "base_uri": "https://localhost:8080/"
        },
        "id": "iYlSYIQM9lMh",
        "outputId": "117174fa-1e67-4c5c-80c2-8b353c94e957"
      },
      "execution_count": null,
      "outputs": [
        {
          "output_type": "execute_result",
          "data": {
            "text/plain": [
              "[[-1, -1, -1], [-1, -1, -1], [-1, -1, -1]]"
            ]
          },
          "metadata": {},
          "execution_count": 5
        }
      ]
    },
    {
      "cell_type": "code",
      "source": [
        "memo"
      ],
      "metadata": {
        "colab": {
          "base_uri": "https://localhost:8080/"
        },
        "id": "V2B3REZD8Qc6",
        "outputId": "115bb32e-266a-47d4-cd91-ca1cbab26c2e"
      },
      "execution_count": null,
      "outputs": [
        {
          "output_type": "execute_result",
          "data": {
            "text/plain": [
              "[[-1, 1, 1, 1, 1],\n",
              " [1, 2, 3, 4, 5],\n",
              " [1, 3, 6, 10, 15],\n",
              " [1, 4, 10, 20, 35],\n",
              " [1, 5, 15, 35, 70]]"
            ]
          },
          "metadata": {},
          "execution_count": 3
        }
      ]
    },
    {
      "cell_type": "code",
      "source": [
        "#Unique paths with obstacles:\n",
        "\n",
        "class Solution:\n",
        "    def uniquePathsWithObstacles(self, obstacleGrid: List[List[int]]) -> int:\n",
        "        n = len(obstacleGrid[0])\n",
        "        m = len(obstacleGrid)\n",
        "\n",
        "        memo = [[-1 for i in range(n)]for j in range(m)]\n",
        "        def uniquepathsobs(row, col, memo, obstacleGrid):\n",
        "            if obstacleGrid[row][col] == 1:\n",
        "                return 0\n",
        "            if row == 0 and col ==0:\n",
        "                return 1\n",
        "            if row <0:\n",
        "                return 0\n",
        "            if col <0:\n",
        "                return 0\n",
        "            if memo[row][col] != -1:\n",
        "                return memo[row][col]\n",
        "\n",
        "            paths = 0\n",
        "            up = uniquepathsobs(row-1, col, memo, obstacleGrid)\n",
        "            left = uniquepathsobs(row,col-1, memo, obstacleGrid)\n",
        "            paths = up + left\n",
        "            memo[row][col] = paths\n",
        "            return memo[row][col]\n",
        "        return uniquepathsobs(m-1, n-1, memo, obstacleGrid)"
      ],
      "metadata": {
        "id": "yblQxVIp8R1h"
      },
      "execution_count": null,
      "outputs": []
    },
    {
      "cell_type": "code",
      "source": [
        "# Minimum path sum\n",
        "class Solution:\n",
        "    def minPathSum(self, grid: List[List[int]]) -> int:\n",
        "        m = len(grid)\n",
        "        n = len(grid[0])\n",
        "        memo = [[-1 for _ in range(n)] for _ in range(m)]\n",
        "\n",
        "        def dp(row,col,memo,grid):\n",
        "            if row ==0 and col ==0:\n",
        "                return grid[row][col]\n",
        "\n",
        "            if row<0:\n",
        "                return float('inf')\n",
        "\n",
        "            if col <0:\n",
        "                return float('inf')\n",
        "\n",
        "            if memo[row][col] != -1:\n",
        "                return memo[row][col]\n",
        "\n",
        "            # paths = float('inf')\n",
        "\n",
        "            left = dp(row,col-1,memo, grid) + grid[row][col]\n",
        "            up = dp(row-1, col, memo, grid) + grid[row][col]\n",
        "            paths = min (left, up)\n",
        "            memo[row][col] = paths\n",
        "            return memo[row][col]\n",
        "        return dp(m-1,n-1,memo, grid)\n",
        "\n"
      ],
      "metadata": {
        "id": "WM5tgd_2CwVg"
      },
      "execution_count": null,
      "outputs": []
    },
    {
      "cell_type": "code",
      "source": [
        "memo = [[-1 for _ in range(j)] for j in range(1, 4)]\n",
        "print(memo)"
      ],
      "metadata": {
        "colab": {
          "base_uri": "https://localhost:8080/"
        },
        "id": "Dhe1kGRHFtI4",
        "outputId": "803c8b07-7cd4-4927-e492-b1e0bb265ac3"
      },
      "execution_count": null,
      "outputs": [
        {
          "output_type": "stream",
          "name": "stdout",
          "text": [
            "[[-1], [-1, -1], [-1, -1, -1]]\n"
          ]
        }
      ]
    },
    {
      "cell_type": "code",
      "source": [
        "#Minimum path if it was a triangle\n",
        "#going from apex to bottom of triangle\n",
        "\n",
        "triangle = [[2],[3,4],[6,5,7],[4,1,8,3]]\n",
        "trilen = len(triangle)\n",
        "memo = [[-1 for _ in range(j)] for j in range(1, trilen + 1)]\n",
        "\n",
        "def dp(row, col, memo, triangle):\n",
        "    if row == len(triangle) -1:\n",
        "        return triangle[row][col]\n",
        "    if memo[row][col] != -1:\n",
        "        return memo[row][col]\n",
        "\n",
        "    down = dp(row+1, col, memo, triangle) + triangle[row][col]\n",
        "    diag_down = dp(row+1, col+1, memo, triangle) + triangle[row][col]\n",
        "\n",
        "    path = min(down, diag_down)\n",
        "\n",
        "    memo[row][col] = path\n",
        "\n",
        "    return memo[row][col]\n",
        "\n",
        "dp(0,0,memo, triangle)"
      ],
      "metadata": {
        "colab": {
          "base_uri": "https://localhost:8080/"
        },
        "id": "WqaqmpygJX0N",
        "outputId": "bbb8ee2e-f94a-4b8f-da2a-35eaf209637e"
      },
      "execution_count": null,
      "outputs": [
        {
          "output_type": "execute_result",
          "data": {
            "text/plain": [
              "11"
            ]
          },
          "metadata": {},
          "execution_count": 12
        }
      ]
    },
    {
      "cell_type": "code",
      "source": [
        "# Minimum Falling Path Sum\n",
        "\n",
        "\n",
        "def minFallingPathSum(self, matrix: List[List[int]]) -> int:\n",
        "\n",
        "        def dp(r,c,memo,matrix):\n",
        "            if r==len(matrix)-1:\n",
        "                return matrix[r][c]\n",
        "            if memo[r][c] != 1e7:\n",
        "                return memo[r][c]\n",
        "            minimum2 = float('inf')\n",
        "            minimum3 = float('inf')\n",
        "            minimum1 = dp(r+1,c,memo,matrix)+ matrix[r][c]\n",
        "            if c<len(matrix[r])-1:\n",
        "                minimum2 = dp(r+1,c+1,memo,matrix)+ matrix[r][c]\n",
        "            if c>0:\n",
        "                minimum3 = dp(r+1,c-1,memo,matrix)+ matrix[r][c]\n",
        "            minimum_here = min(minimum1,minimum2,minimum3)\n",
        "            memo[r][c] = minimum_here\n",
        "            return  memo[r][c]\n",
        "\n",
        "        memo = [[1e7 for _ in range(len(matrix[0]))] for _ in range(len(matrix))]\n",
        "        return min([dp(0,i,memo,matrix) for i in range(0,len(matrix[0]))])\n",
        "\n",
        "\n",
        "\n"
      ],
      "metadata": {
        "id": "-YJMM6x2OxCd"
      },
      "execution_count": null,
      "outputs": []
    },
    {
      "cell_type": "code",
      "source": [
        "# 3D dynamic Programming: CHerry pickup\n",
        "\n",
        "class Solution:\n",
        "    def cherryPickup(self, grid: List[List[int]]) -> int:\n",
        "        row = len(grid)\n",
        "        col = len(grid[0])\n",
        "\n",
        "        memo = [[[-1 for _ in range(col)] for _ in range(col)] for _ in range(row)]\n",
        "\n",
        "        def dp(row, col1, col2, grid, memo):\n",
        "\n",
        "            if col1 < 0 or col1>=len(grid[0]) or col2 <0 or col2 >= len(grid[0]):\n",
        "                return 0\n",
        "\n",
        "            if memo[row][col1][col2] != -1:\n",
        "                return memo[row][col1][col2]\n",
        "\n",
        "            if row ==len(grid)-1:\n",
        "                return grid[row][col1] + grid[row][col2]\n",
        "\n",
        "            maximum = 0\n",
        "            for i in range(-1,2):\n",
        "                for j in range(-1,2):\n",
        "                    if col1 == col2:\n",
        "                        output = dp(row+1,col1+i, col2+j, grid, memo) + grid[row][col1]\n",
        "                    output = dp(row+1,col1+i, col2+j, grid, memo) + grid[row][col1] + grid[row][col2]\n",
        "                    maximum = max(output, maximum)\n",
        "\n",
        "            memo[row][col1][col2] = maximum\n",
        "            return memo[row][col1][col2]\n",
        "\n",
        "        dp(0,0,col-1,grid, memo)"
      ],
      "metadata": {
        "id": "cI3ee0_DVTrr"
      },
      "execution_count": null,
      "outputs": []
    },
    {
      "cell_type": "code",
      "source": [
        "# grid = [[3,1,1],[2,5,1],[1,5,5],[2,1,1]]\n",
        "grid = [[1,0,0,0,0,0,1],[2,0,0,0,0,3,0],[2,0,9,0,0,0,0],[0,3,0,5,4,0,0],[1,0,2,3,0,0,6]]\n",
        "row = len(grid)\n",
        "col = len(grid[0])\n",
        "memo = [[[-1 for _ in range(col)] for _ in range(col)] for _ in range(row)]\n",
        "\n",
        "def dp(row, col1, col2, grid, memo):\n",
        "\n",
        "    if col1 < 0 or col1>=len(grid[0]) or col2 <0 or col2 >= len(grid[0]):\n",
        "        return 0\n",
        "\n",
        "    if memo[row][col1][col2] != -1:\n",
        "        return memo[row][col1][col2]\n",
        "\n",
        "    if row ==len(grid)-1:\n",
        "        if col1 == col2:\n",
        "            return grid[row][col1]\n",
        "        else:\n",
        "            return grid[row][col1] + grid[row][col2]\n",
        "\n",
        "    maximum = 0\n",
        "    for i in range(-1,2):\n",
        "        for j in range(-1,2):\n",
        "            if col1 == col2:\n",
        "                output = dp(row+1,col1+i, col2+j, grid, memo) + grid[row][col2]\n",
        "            else:\n",
        "                output = dp(row+1,col1+i, col2+j, grid, memo) + grid[row][col1] + grid[row][col2]\n",
        "            maximum = max(output, maximum)\n",
        "\n",
        "    memo[row][col1][col2] = maximum\n",
        "    return memo[row][col1][col2]\n",
        "\n",
        "dp(0,0,col-1,grid, memo)"
      ],
      "metadata": {
        "colab": {
          "base_uri": "https://localhost:8080/"
        },
        "id": "ONaAB6tnVbHF",
        "outputId": "1f106dbd-b951-44eb-dc9a-9621649fbbf1"
      },
      "execution_count": null,
      "outputs": [
        {
          "output_type": "execute_result",
          "data": {
            "text/plain": [
              "28"
            ]
          },
          "metadata": {},
          "execution_count": 6
        }
      ]
    },
    {
      "cell_type": "code",
      "source": [
        "nums = [1,2,3]\n",
        "k=3\n",
        "memo = [[-1 for _ in range(k+1)] for _ in range(len(nums))]\n",
        "def dp(index, target, nums, memo):\n",
        "    if target == 0:\n",
        "        return 1\n",
        "    if index <0 or target <0:\n",
        "        return 0\n",
        "    if memo[index][target] != -1:\n",
        "        return memo[index][target]\n",
        "\n",
        "    take = dp(index-1, target - nums[index],nums, memo)\n",
        "    nottake = dp(index-1, target, nums, memo)\n",
        "    memo[index][target] = take + nottake\n",
        "    return memo[index][target]\n",
        "\n",
        "dp(len(nums)-1, k, nums, memo)"
      ],
      "metadata": {
        "colab": {
          "base_uri": "https://localhost:8080/"
        },
        "id": "akOcltXDfMEQ",
        "outputId": "12b9b284-fedd-4fb2-a3d6-424ae52b382c"
      },
      "execution_count": null,
      "outputs": [
        {
          "output_type": "execute_result",
          "data": {
            "text/plain": [
              "2"
            ]
          },
          "metadata": {},
          "execution_count": 7
        }
      ]
    },
    {
      "cell_type": "code",
      "source": [
        "def dp(index, target, nums, memo):\n",
        "    if target == 0:\n",
        "        return 1\n",
        "    if index < 0 or target < 0:\n",
        "        return 0\n",
        "    if memo[index][target] != -1:\n",
        "        return memo[index][target]\n",
        "\n",
        "    take = 0\n",
        "    if target >= nums[index]:\n",
        "        take = dp(index - 1, target - nums[index], nums, memo)\n",
        "    nottake = dp(index - 1, target, nums, memo)\n",
        "\n",
        "    memo[index][target] = take + nottake\n",
        "    return memo[index][target]\n",
        "\n",
        "nums = [1, 2, 3]\n",
        "k = 3\n",
        "memo = [[-1 for _ in range(k + 1)] for _ in range(len(nums))]\n",
        "result = dp(len(nums) - 1, k, nums, memo)\n",
        "print(result)"
      ],
      "metadata": {
        "colab": {
          "base_uri": "https://localhost:8080/"
        },
        "id": "as_ypC3s6pG0",
        "outputId": "3693c359-cb9a-44ca-be71-780175006464"
      },
      "execution_count": null,
      "outputs": [
        {
          "output_type": "stream",
          "name": "stdout",
          "text": [
            "2\n"
          ]
        }
      ]
    },
    {
      "cell_type": "code",
      "source": [
        "# Two subsets with each total of K in them\n",
        "\n",
        "arr = [2,3,3,3,4,5,2,2,1,1]\n",
        "\n",
        "def dp(arr, target, memo, index):\n",
        "    if target == 0:\n",
        "        return True\n",
        "\n",
        "    if index <0 or target < 0:\n",
        "        return False\n",
        "\n",
        "    if memo[index][target] != -1:\n",
        "        return memo[index][target]\n",
        "\n",
        "    take = False\n",
        "    if target >= arr[index]:\n",
        "        take = dp(arr, target - arr[index], memo, index-1)\n",
        "    nottake = dp(arr, target, memo, index-1)\n",
        "\n",
        "    memo[index][target] = take or nottake\n",
        "    return memo[index][target]\n",
        "\n",
        "\n",
        "def solve_two(arr):\n",
        "    sum_arr = sum(arr)\n",
        "    sun_arr_half = int((sum_arr/2))\n",
        "    if sum_arr %2 !=0:\n",
        "        return False\n",
        "    else:\n",
        "        memo = [[-1 for _ in range(sun_arr_half+1)] for _ in range(len(arr))]\n",
        "        # target = int(sum_arr/2\n",
        "        return dp(arr, sun_arr_half, memo, len(arr)-1)\n",
        "\n",
        "solve_two(arr)"
      ],
      "metadata": {
        "colab": {
          "base_uri": "https://localhost:8080/"
        },
        "id": "3XDjyKX67hKk",
        "outputId": "63350417-4342-4f12-b592-e2706b83a87c"
      },
      "execution_count": null,
      "outputs": [
        {
          "output_type": "execute_result",
          "data": {
            "text/plain": [
              "True"
            ]
          },
          "metadata": {},
          "execution_count": 15
        }
      ]
    },
    {
      "cell_type": "code",
      "source": [
        "# Counts Subsets with Sum K\n",
        "\n",
        "arr = [1,2,2,3,4]\n",
        "target = 4\n",
        "\n",
        "memo = [[-1 for _ in range(target+1)] for _ in range(len(arr))]\n",
        "\n",
        "def dp(arr, index, target, memo):\n",
        "    if target == 0:\n",
        "        return 1\n",
        "    if index == 0:\n",
        "        return arr[index] == target\n",
        "    if memo[index][target] != -1:\n",
        "        return memo[index][target]\n",
        "    pick = 0\n",
        "    if arr[index] <= target:\n",
        "        pick = dp(arr, index-1, target - arr[index], memo)\n",
        "    notpick = dp(arr, index-1,target, memo)\n",
        "\n",
        "    memo[index][target] = pick + notpick\n",
        "    return memo[index][target]\n",
        "\n",
        "dp(arr, 4, 4, memo)\n"
      ],
      "metadata": {
        "colab": {
          "base_uri": "https://localhost:8080/"
        },
        "id": "OWJ-AjlR_75M",
        "outputId": "c5f9dc4b-49ef-45cc-bedc-e6f13d2279f1"
      },
      "execution_count": null,
      "outputs": [
        {
          "output_type": "execute_result",
          "data": {
            "text/plain": [
              "3"
            ]
          },
          "metadata": {},
          "execution_count": 6
        }
      ]
    },
    {
      "cell_type": "code",
      "source": [
        "print(memo)"
      ],
      "metadata": {
        "colab": {
          "base_uri": "https://localhost:8080/"
        },
        "id": "CKqMcXhtFVXs",
        "outputId": "acf69a98-731a-43cb-f0a1-890fbddd1aa9"
      },
      "execution_count": null,
      "outputs": [
        {
          "output_type": "stream",
          "name": "stdout",
          "text": [
            "[[-1, -1, -1, -1, -1], [-1, 1, 1, -1, 0], [-1, 1, -1, -1, 1], [-1, -1, -1, -1, 2], [-1, -1, -1, -1, 3]]\n"
          ]
        }
      ]
    },
    {
      "cell_type": "code",
      "source": [
        "# Partition with given difference\n",
        "arr = [5,2,6,4,2]\n",
        "diff = 3\n",
        "\n",
        "# Our condition is s1-s2 = diff\n",
        "#s1 = diff + s2\n",
        "\n",
        "#Known condition is\n",
        "# s1 + s2 = tot\n",
        "# diff + s2 + s2 = tot\n",
        "# s2 = (tot-diff)/2"
      ],
      "metadata": {
        "id": "B_oFWYpmF-Lh"
      },
      "execution_count": null,
      "outputs": []
    },
    {
      "cell_type": "code",
      "source": [
        "ourval = int((sum(arr)-diff)/2)\n",
        "ourval"
      ],
      "metadata": {
        "colab": {
          "base_uri": "https://localhost:8080/"
        },
        "id": "SEXFWO1sORx5",
        "outputId": "a395a10c-6b16-436a-f74a-9177e69682c3"
      },
      "execution_count": null,
      "outputs": [
        {
          "output_type": "execute_result",
          "data": {
            "text/plain": [
              "8"
            ]
          },
          "metadata": {},
          "execution_count": 16
        }
      ]
    },
    {
      "cell_type": "code",
      "source": [
        "ourval = int((sum(arr)-diff)/2)\n",
        "ourval"
      ],
      "metadata": {
        "colab": {
          "base_uri": "https://localhost:8080/"
        },
        "id": "kqGd9ejtNQsU",
        "outputId": "06edb829-86fe-4fcc-c7ba-f08938083741"
      },
      "execution_count": null,
      "outputs": [
        {
          "output_type": "execute_result",
          "data": {
            "text/plain": [
              "8"
            ]
          },
          "metadata": {},
          "execution_count": 14
        }
      ]
    },
    {
      "cell_type": "code",
      "source": [
        "# Partition with given difference\n",
        "def dp(arr, target, index, memo):\n",
        "    if target == 0:\n",
        "        return 1\n",
        "    if index == 0:\n",
        "        if arr[index] == target:\n",
        "            return 1\n",
        "        else:\n",
        "            return 0\n",
        "    if memo[index][target] != -1:\n",
        "        return memo[index][target]\n",
        "\n",
        "    pick = 0\n",
        "    if arr[index] < target:\n",
        "        pick = dp(arr, target-arr[index], index-1, memo)\n",
        "    notpick = dp(arr, target, index-1, memo)\n",
        "\n",
        "    memo[index][target] = pick + notpick\n",
        "    return memo[index][target]\n",
        "\n",
        "\n",
        "arr = [5,2,6,4]\n",
        "diff = 3\n",
        "ourval = int((sum(arr)-diff)/2)\n",
        "print(ourval)\n",
        "memo = [[-1 for i in range(ourval +1)] for i in range(len(arr))]\n",
        "\n",
        "if sum(arr) < 0:\n",
        "    print('no answer')\n",
        "\n",
        "if (sum(arr)-diff) % 2 != 0:\n",
        "    print('no answer')\n",
        "\n",
        "dp(arr, ourval,3,memo )\n",
        "\n"
      ],
      "metadata": {
        "colab": {
          "base_uri": "https://localhost:8080/"
        },
        "id": "kWeaLaNjMO78",
        "outputId": "44a760b3-fd33-4bec-efd8-3abeb1b8fddc"
      },
      "execution_count": null,
      "outputs": [
        {
          "output_type": "stream",
          "name": "stdout",
          "text": [
            "7\n"
          ]
        },
        {
          "output_type": "execute_result",
          "data": {
            "text/plain": [
              "1"
            ]
          },
          "metadata": {},
          "execution_count": 22
        }
      ]
    },
    {
      "cell_type": "code",
      "source": [
        "# 0 and 1 Knapsack problem\n",
        "\n",
        "w = [3,2,5]\n",
        "val = [30,24,60]\n",
        "bag = 8\n",
        "\n",
        "def dp(w, val, index, bag, memo):\n",
        "    if index ==0:\n",
        "        if w[index] <= bag:\n",
        "            return val[index]\n",
        "        else:\n",
        "            return 0\n",
        "    if bag == 0:\n",
        "        return 0\n",
        "\n",
        "    #implement memo\n",
        "    if memo[index][bag] != -1:\n",
        "        return memo[index][bag]\n",
        "\n",
        "    nottake = dp(w, val, index-1, bag, memo)\n",
        "    take = 0\n",
        "    if w[index] <= bag:\n",
        "        take = val[index] + dp(w, val, index-1, bag-w[index], memo)\n",
        "    return max(take, nottake)\n",
        "\n",
        "memo = [[-1 for i in range(bag+1)] for i in range(len(w))]\n",
        "dp(w,val, 2, bag, memo)\n",
        "\n"
      ],
      "metadata": {
        "colab": {
          "base_uri": "https://localhost:8080/"
        },
        "id": "UNsIPm4BQrTm",
        "outputId": "58bc60ea-88a0-46a2-9fdd-009963830a22"
      },
      "execution_count": null,
      "outputs": [
        {
          "output_type": "execute_result",
          "data": {
            "text/plain": [
              "90"
            ]
          },
          "metadata": {},
          "execution_count": 28
        }
      ]
    },
    {
      "cell_type": "code",
      "source": [
        "# minimum coins problem\n",
        "\n",
        "arr =  [1, 5, 25]\n",
        "target = 20\n",
        "\n",
        "# arr = [1]\n",
        "# target = 19\n",
        "def dp(arr, target, index, memo):\n",
        "    if index == 0:\n",
        "        if target % arr[index] == 0:\n",
        "            return int(target / arr[index])\n",
        "        else:\n",
        "            return float('inf')\n",
        "\n",
        "    if memo[index][target] != -1:\n",
        "        return memo[index][target]\n",
        "\n",
        "    notpick = dp(arr, target, index-1, memo)\n",
        "    pick = float('inf')\n",
        "    if arr[index] <= target:\n",
        "        pick = 1 + dp(arr, target - arr[index], index, memo)\n",
        "\n",
        "    memo[index][target] = min(pick, notpick)\n",
        "\n",
        "    return memo[index][target]\n",
        "\n",
        "memo = [[-1 for i in range(target+1)] for i in range(len(arr))]\n",
        "dp(arr, target, len(arr)-1, memo)"
      ],
      "metadata": {
        "id": "raOSkWr0XQjc",
        "colab": {
          "base_uri": "https://localhost:8080/"
        },
        "outputId": "125cdd74-a1f8-46ca-d431-eee747969fa2"
      },
      "execution_count": null,
      "outputs": [
        {
          "output_type": "execute_result",
          "data": {
            "text/plain": [
              "4"
            ]
          },
          "metadata": {},
          "execution_count": 4
        }
      ]
    },
    {
      "cell_type": "code",
      "source": [
        "#unbounded knapsack\n",
        "\n",
        "w = [2,4,8]\n",
        "val = [5,11,15]\n",
        "bag = 10\n",
        "\n",
        "memo = [[-1 for i in range(bag + 1)] for i in range(len(w))]\n",
        "\n",
        "def dp(w, val, index, target, memo):\n",
        "    #Base cases\n",
        "    if index == 0:\n",
        "        if(target % w[index] == 0):\n",
        "            return int((target/ w[index])* (val[index]))\n",
        "        else:\n",
        "            return -float('inf')\n",
        "    if memo[index][target] != -1:\n",
        "        return memo[index][target]\n",
        "\n",
        "    #Operations\n",
        "    notpick = dp(w,val, index-1, target, memo)\n",
        "\n",
        "    pick = -float('inf')\n",
        "\n",
        "    if( w[index] <= target):\n",
        "        pick = val[index] + dp(w, val, index, target - w[index], memo)\n",
        "\n",
        "    memo[index][target] = max(pick,notpick)\n",
        "\n",
        "    return memo[index][target]\n",
        "\n",
        "dp(w,val,2,bag,memo)\n"
      ],
      "metadata": {
        "id": "uU7rBbT7U0Ai",
        "colab": {
          "base_uri": "https://localhost:8080/"
        },
        "outputId": "6e086abc-84c8-48d9-e3a5-134ab714bfdd"
      },
      "execution_count": null,
      "outputs": [
        {
          "output_type": "execute_result",
          "data": {
            "text/plain": [
              "27"
            ]
          },
          "metadata": {},
          "execution_count": 11
        }
      ]
    },
    {
      "cell_type": "code",
      "source": [
        "# Rod Cutting Problem\n",
        "prices = [1,5,8,9]\n",
        "rodlength = 5\n",
        "\n",
        "lengths = [i for i in range(1, len(prices)+1)]\n",
        "memo = [[-1 for i in range(rodlength+1)] for i in range(len(prices))]\n",
        "print(prices)\n",
        "print(lengths)\n",
        "print(rodlength)\n",
        "\n",
        "def dp(index, target, prices, lengths, memo):\n",
        "    #Base cases\n",
        "    if index == 0:\n",
        "        if (target % lengths[index]) == 0:\n",
        "            return int((target/lengths[index])*(prices[index]))\n",
        "        else:\n",
        "            return -float('inf')\n",
        "    if memo[index][target] != -1:\n",
        "        return memo[index][target]\n",
        "    #Operations\n",
        "    notcutrod = dp(index-1, target, prices, lengths, memo)\n",
        "    cutrod = -float('inf')\n",
        "    if lengths[index] <= target:\n",
        "        cutrod = prices[index] + dp(index, target -  lengths[index], prices, lengths, memo)\n",
        "\n",
        "    memo[index][target] = max(notcutrod, cutrod)\n",
        "    return memo[index][target]\n",
        "\n",
        "# dp(len(prices)-1,rodlength, prices, lengths, memo)\n",
        "dp(3,5,prices, lengths, memo)\n"
      ],
      "metadata": {
        "colab": {
          "base_uri": "https://localhost:8080/"
        },
        "id": "jcYzKbE27xQs",
        "outputId": "6ff35cf4-44c6-4424-c6cb-8d41b916dd0c"
      },
      "execution_count": null,
      "outputs": [
        {
          "output_type": "stream",
          "name": "stdout",
          "text": [
            "[1, 5, 8, 9]\n",
            "[1, 2, 3, 4]\n",
            "5\n"
          ]
        },
        {
          "output_type": "execute_result",
          "data": {
            "text/plain": [
              "13"
            ]
          },
          "metadata": {},
          "execution_count": 28
        }
      ]
    },
    {
      "cell_type": "code",
      "source": [
        "#Dynamic Programming for Longest Common Subsequence\n",
        "# the LCS of s1 and s2 is cd, so the answer is 2\n",
        "\n",
        "s1 = \"AGGTAB\"\n",
        "s2 = \"GXTXAYB\"\n",
        "\n",
        "memo = [[-1 for i in range(len(s2))] for i in range(len(s1))]\n",
        "\n",
        "def dp(ind1, ind2,s1,s2,memo):\n",
        "    #Base cases\n",
        "    if ind1 < 0 or ind2 < 0:\n",
        "        return 0\n",
        "    if memo[ind1][ind2] != -1:\n",
        "        return memo[ind1][ind2]\n",
        "    #Operations\n",
        "    matchstr = -float('inf')\n",
        "    #There is a match\n",
        "    if s1[ind1] == s2[ind2]:\n",
        "        matchstr = 1 + dp(ind1-1, ind2-1, s1, s2, memo)\n",
        "    #There is no match\n",
        "    nomatchstr = max(dp(ind1-1, ind2, s1, s2, memo),dp(ind1, ind2-1, s1, s2, memo))\n",
        "\n",
        "    memo[ind1][ind2] = max(matchstr, nomatchstr)\n",
        "    return memo[ind1][ind2]\n",
        "\n",
        "dp(len(s1)-1,len(s2)-1,s1,s2,memo)\n"
      ],
      "metadata": {
        "colab": {
          "base_uri": "https://localhost:8080/"
        },
        "id": "87kiYrMnCbuj",
        "outputId": "1ed6e6d2-42db-465b-96fe-d18545a7e735"
      },
      "execution_count": null,
      "outputs": [
        {
          "output_type": "execute_result",
          "data": {
            "text/plain": [
              "4"
            ]
          },
          "metadata": {},
          "execution_count": 10
        }
      ]
    },
    {
      "cell_type": "code",
      "source": [
        "#now we need to print the string it seems\n",
        "#This does not have to be consecutive\n",
        "s1 = \"AGGTAB\"\n",
        "s2 = \"GXTXAYB\"\n",
        "\n",
        "memo = [[-1 for i in range(len(s2))] for i in range(len(s1))]\n",
        "\n",
        "def dp(ind1, ind2,s1,s2,memo):\n",
        "    #Base cases\n",
        "    if ind1 < 0 or ind2 < 0:\n",
        "        return ''\n",
        "    if memo[ind1][ind2] != -1:\n",
        "        return memo[ind1][ind2]\n",
        "    #Operations\n",
        "    matchstr = ''\n",
        "    #There is a match\n",
        "    if s1[ind1] == s2[ind2]:\n",
        "        matchstr = s1[ind1] + dp(ind1-1, ind2-1, s1, s2, memo)\n",
        "    #There is no match\n",
        "    nomatch1 = dp(ind1-1, ind2, s1, s2, memo)\n",
        "    nomatch2 = dp(ind1, ind2-1, s1, s2, memo)\n",
        "\n",
        "    if len(matchstr) >= len(nomatch1):\n",
        "        if len(matchstr) >= len(nomatch2):\n",
        "            memo[ind1][ind2] = matchstr\n",
        "        else:\n",
        "            memo[ind1][ind2] = nomatch2\n",
        "    else:\n",
        "        if len(nomatch1) >= len(nomatch2):\n",
        "            memo[ind1][ind2] = nomatch1\n",
        "        else:\n",
        "            memo[ind1][ind2] = nomatch2\n",
        "\n",
        "    # memo[ind1][ind2] = max(matchstr, nomatchstr)\n",
        "    return memo[ind1][ind2]\n",
        "\n",
        "dp(len(s1)-1,len(s2)-1,s1,s2,memo)\n",
        "\n",
        "\n"
      ],
      "metadata": {
        "colab": {
          "base_uri": "https://localhost:8080/",
          "height": 35
        },
        "id": "jXMFB0NwBxtH",
        "outputId": "f87ef8ab-d2bd-4a98-d1ce-b0b62c43c563"
      },
      "execution_count": null,
      "outputs": [
        {
          "output_type": "execute_result",
          "data": {
            "text/plain": [
              "'BATG'"
            ],
            "application/vnd.google.colaboratory.intrinsic+json": {
              "type": "string"
            }
          },
          "metadata": {},
          "execution_count": 13
        }
      ]
    },
    {
      "cell_type": "code",
      "source": [
        "#Longest Common Substring\n",
        "#This is has to be consecutive\n",
        "\n",
        "s1 = \"AXBA3DYb\"\n",
        "s2 = \"CRBASDCb\"\n",
        "\n",
        "\n",
        "\n",
        "def dp(s1, s2, i, j ):\n",
        "    #Base Condition\n",
        "    if i <0 or j <0:\n",
        "        return 0\n",
        "    #Operations\n",
        "    max = 0\n",
        "    if s1[i] == s2[j]:\n",
        "        max = 1 + dp(s1,s2, i-1, j-1)\n",
        "    else:\n",
        "        max = dp(s1,s2,i-1, j-1)\n",
        "\n",
        "    return max\n",
        "\n",
        "dp(s1, s2, 7, 7)\n",
        "\n",
        "\n",
        "# How about keeping track with new variable\n",
        "s1 = \"AXBA3DYba\"\n",
        "s2 = \"CRBASDCba\"\n",
        "\n",
        "def dp(s1, s2, i, j, ans):\n",
        "    #Base Condition\n",
        "    if i <0 or j <0:\n",
        "        return ans\n",
        "    #Operations\n",
        "    if s1[i] == s2[j]:\n",
        "        ans = s1[i] + ans\n",
        "        return dp(s1,s2, i-1, j-1,ans)\n",
        "    else:\n",
        "        ans1 =  dp(s1,s2,i-1, j, \"\")\n",
        "        ans2 =  dp(s1,s2,i, j-1, \"\")\n",
        "        if len(ans1)> len(ans2):\n",
        "            return ans1\n",
        "        else:\n",
        "            return ans2\n",
        "\n",
        "ans = \"\"\n",
        "\n",
        "dp(s1, s2, len(s1)-1,len(s2)-1, ans)\n",
        "#This does not work\n",
        "def dp(s1, s2, i, j, ans):\n",
        "    # Base Condition\n",
        "    if i < 0 or j < 0:\n",
        "        return ans\n",
        "\n",
        "    # Operations\n",
        "    if s1[i] == s2[j]:\n",
        "        ans = s1[i] + ans\n",
        "        return dp(s1, s2, i - 1, j - 1, ans)  # Return the result\n",
        "\n",
        "    else:\n",
        "        ans1 = dp(s1, s2, i - 1, j, \"\")  # Explore s1 without i\n",
        "        ans2 = dp(s1, s2, i, j - 1, \"\")  # Explore s2 without j\n",
        "        if len(ans1) > len(ans2):\n",
        "            return ans1\n",
        "        else:\n",
        "            return ans2\n",
        "\n",
        "s1 = \"AXBA3DYba\"\n",
        "s2 = \"CRBASDCba\"\n",
        "result = dp(s1, s2, len(s1) - 1, len(s2) - 1, \"\")\n",
        "print(result)\n",
        "\n",
        "#Longest Common Substring do not work\n",
        "# Need to use the tabulation method"
      ],
      "metadata": {
        "colab": {
          "base_uri": "https://localhost:8080/",
          "height": 35
        },
        "id": "D39_MJRRDOIL",
        "outputId": "46331648-eb63-4933-e6e4-0f7ae6e431f3"
      },
      "execution_count": null,
      "outputs": [
        {
          "output_type": "execute_result",
          "data": {
            "text/plain": [
              "'b'"
            ],
            "application/vnd.google.colaboratory.intrinsic+json": {
              "type": "string"
            }
          },
          "metadata": {},
          "execution_count": 7
        }
      ]
    },
    {
      "cell_type": "code",
      "source": [
        "# Longest palindromic subsequence extension of the LCS problem\n",
        "\n",
        "s1 = \"UUBBARAUU\"\n",
        "s2 = s1[::-1]\n",
        "\n",
        "\n",
        "def dp(s1, s2, i, j, memo):\n",
        "    #Base Condition\n",
        "    if i<0 or j<0:\n",
        "        return 0\n",
        "\n",
        "    #Operations\n",
        "    matched = 0\n",
        "    unmatched = 0\n",
        "\n",
        "    if (s1[i] == s2[j]):\n",
        "        matched = 1+ dp(s1,s2,i-1,j-1,memo)\n",
        "\n",
        "    else:\n",
        "\n",
        "        unmatched = max(dp(s1,s2,i-1,j,memo),dp(s1,s2,i,j-2,memo))\n",
        "\n",
        "    maxi = max(matched, unmatched)\n",
        "    return maxi\n",
        "\n",
        "memo = []\n",
        "dp(s1, s2, len(s1)-1, len(s2)-1, memo)\n",
        "\n",
        "#Apply memoization,\n",
        "memo[i][j]\n"
      ],
      "metadata": {
        "colab": {
          "base_uri": "https://localhost:8080/"
        },
        "id": "-8L8cLFpNZdt",
        "outputId": "08c557ce-2d0b-4fa0-f4ef-dd80c742d722"
      },
      "execution_count": null,
      "outputs": [
        {
          "output_type": "execute_result",
          "data": {
            "text/plain": [
              "7"
            ]
          },
          "metadata": {},
          "execution_count": 6
        }
      ]
    },
    {
      "cell_type": "code",
      "source": [
        "# Dynamic Programming (Sudoku Solver):\n",
        "\n",
        "class Solution:\n",
        "    def solveSudoku(self, board: List[List[str]]) -> None:\n",
        "        \"\"\"\n",
        "        Do not return anything, modify board in-place instead.\n",
        "        \"\"\"\n",
        "        #Traversing from 0\n",
        "        i = len(board) - 1\n",
        "        j = len(board[0]) -1\n",
        "        print(i,j)\n",
        "\n",
        "        def backtrack(board, i, j):\n",
        "            #Base conditions\n",
        "            if j ==9:\n",
        "                j = 0\n",
        "                i = i +1\n",
        "            if i ==9:\n",
        "                return True\n",
        "            if board[i][j] != \".\":\n",
        "                return backtrack(board, i, j+1)\n",
        "            #Operations\n",
        "            for num in range(1,10):\n",
        "                #Verify eligibility\n",
        "                if verify(board,str(num), i, j):\n",
        "                    #Insert into the board\n",
        "                    board[i][j] = str(num)\n",
        "                    #Call new function\n",
        "                    if backtrack(board, i, j+1):\n",
        "                        return True\n",
        "                    board[i][j] = \".\"\n",
        "            return False\n",
        "\n",
        "        def verify(board, num, i, j):\n",
        "            #Check horizontal\n",
        "            for col in range(0,9):\n",
        "                if(board[i][col] == num):\n",
        "                    return False\n",
        "            #Check vertical\n",
        "            for row in range(0,9):\n",
        "                if(board[row][j]==num):\n",
        "                    return False\n",
        "            #Check box\n",
        "            #very tricky\n",
        "            #check the % with 3 to find the box it resides in\n",
        "            r = int(i /3)\n",
        "            c = int(j /3)\n",
        "            for k in range(3*r, 3*(r+1)):\n",
        "                for l in range(3*c,3*(c+1)):\n",
        "                    if(board[k][l] == num):\n",
        "                        return False\n",
        "\n",
        "            return True\n",
        "        backtrack(board, 0, 0)\n",
        "\n",
        "\n",
        "\n",
        "\n",
        "\n",
        "# class Solution:\n",
        "#     def solveSudoku(self, board: List[List[str]]) -> None:\n",
        "#         n = 9\n",
        "\n",
        "\n",
        "#         def isValid(row, col, ch):\n",
        "#             row, col = int(row), int(col)\n",
        "\n",
        "#             for i in range(9):\n",
        "\n",
        "#                 if board[i][col] == ch:\n",
        "#                     return False\n",
        "#                 if board[row][i] == ch:\n",
        "#                     return False\n",
        "\n",
        "#                 if board[3*(row//3) + i//3][3*(col//3) + i%3] == ch:\n",
        "#                     return False\n",
        "\n",
        "#             return True\n",
        "\n",
        "#         def solve(row, col):\n",
        "#             if row == n:\n",
        "#                 return True\n",
        "#             if col == n:\n",
        "#                 return solve(row+1, 0)\n",
        "\n",
        "#             if board[row][col] == \".\":\n",
        "#                 for i in range(1, 10):\n",
        "#                     if isValid(row, col, str(i)):\n",
        "#                         board[row][col] = str(i)\n",
        "\n",
        "#                         if solve(row, col + 1):\n",
        "#                             return True\n",
        "#                         else:\n",
        "#                             board[row][col] = \".\"\n",
        "#                 return False\n",
        "#             else:\n",
        "#                 return solve(row, col + 1)\n",
        "\n",
        "\n",
        "\n",
        "#         solve(0, 0)\n",
        "\n",
        "# \t\t#do upvote if it helps."
      ],
      "metadata": {
        "id": "ae_jYJh4O9FZ"
      },
      "execution_count": null,
      "outputs": []
    },
    {
      "cell_type": "code",
      "source": [
        "# Count the number of ways to convert a String A -> String B\n",
        "\n",
        "#We could use Longest Common Subsequence for this\n",
        "\n",
        "s1 = \"ABCD\"\n",
        "s2 = \"ANC\"\n",
        "\n",
        "memo = [[-1 for i in range(len(s2))] for i in range(len(s1))]\n",
        "# print(memo)\n",
        "def dp(s1,s2, i,j,memo):\n",
        "    #Base Conditions\n",
        "    if i<0 or j<0:\n",
        "        return 0\n",
        "    if memo[i][j] != -1:\n",
        "        return memo[i][j]\n",
        "    #Operations\n",
        "    matching = 0\n",
        "    notmatching = 0\n",
        "\n",
        "    if(s1[i]== s2[j]):\n",
        "        matching = 1 + dp(s1,s2,i-1,j-1, memo)\n",
        "    else:\n",
        "        notmatching = max(dp(s1,s2,i-1,j,memo),dp(s1,s2,i,j-1,memo))\n",
        "    memo[i][j] = max(matching, notmatching)\n",
        "    return memo[i][j]\n",
        "\n",
        "dp(s1,s2, len(s1)-1,len(s2)-1,memo)\n",
        "\n",
        "#Logic to convert string 1 to string 2\n",
        "#We need to delete the items which are not in the lcs from string 1,\n",
        "    # len(s1)  - lcs\n",
        "#We need to add the items which are not in the lcs from string 2\n",
        "    # len(s2) - lcs\n",
        "#So the equation would be\n",
        "\n",
        "#Total number of manipulations\n",
        "\n",
        "# len(s1) + len(s2) - 2 (lcs(s1,s2))\n",
        "\n",
        "total = len(s1) + len(s2) - 2 *(dp(s1,s2, len(s1)-1,len(s2)-1,memo))\n",
        "print(total)\n"
      ],
      "metadata": {
        "colab": {
          "base_uri": "https://localhost:8080/"
        },
        "id": "rad0ofRYyQJ_",
        "outputId": "e3738e36-806d-4b88-c46d-734edcc5e55b"
      },
      "execution_count": null,
      "outputs": [
        {
          "output_type": "stream",
          "name": "stdout",
          "text": [
            "3\n"
          ]
        }
      ]
    },
    {
      "cell_type": "code",
      "source": [
        "#This has errors\n",
        "\n",
        "#String A, String B\n",
        "#supersequence\n",
        "s1 = \"brute\"\n",
        "s2 = \"groot\"\n",
        "\n",
        "\n",
        "memo = [[-1 for i in range(len(s2))] for i in range(len(s1))]\n",
        "\n",
        "#This needs to return a supersequence\n",
        "def dp(s1,s2, i,j,memo, sup):\n",
        "    #Base Conditions\n",
        "    if i<0:\n",
        "        temp = \"\"\n",
        "        for x in s2[:j+1]:\n",
        "            temp = temp + x\n",
        "        return sup+ temp\n",
        "    if j<0:\n",
        "        temp = \"\"\n",
        "        for x in s2[:i+1]:\n",
        "            temp = temp + x\n",
        "        return sup+ temp\n",
        "\n",
        "    if memo[i][j] != -1:\n",
        "        return memo[i][j]\n",
        "    #Operations\n",
        "    # matched\n",
        "    matched = 0\n",
        "    notmatched1 = 0\n",
        "    notmatched2 = 0\n",
        "    if(s1[i] == s2[j]):\n",
        "        sup = sup+s1[i]\n",
        "        matched = dp(s1,s2,i,j,memo,sup)\n",
        "    else:\n",
        "        notmatched1 = dp(s1,s2,i-1,j, memo, sup)\n",
        "        notmatched2 = dp(s1,s2,i,j-1,memo,sup)\n",
        "\n",
        "    #Not matched\n",
        "    if len(matched) < len(notmatched1):\n",
        "        if len(matched) < len(notmatched2):\n",
        "            memo[i][j] = matched\n",
        "        elif len(notmatched2) < len(matched):\n",
        "            memo[i][j] = notmatched2\n",
        "    elif len(notmatched1) < len(matched):\n",
        "        if len(notmatched1) < len(notmatched2):\n",
        "            memo[i][j] = notmatched1\n",
        "        else:\n",
        "            memo[i][j] = notmatched2\n",
        "    return memo[i][j]\n",
        "\n",
        "dp(s1,s2, len(s1)-1,len(s2)-1,memo, \"\")\n",
        "\n",
        "\n",
        "\n",
        "\n"
      ],
      "metadata": {
        "colab": {
          "base_uri": "https://localhost:8080/",
          "height": 391
        },
        "id": "VT2ekDkf0oSv",
        "outputId": "f342cb1f-2e3f-4a33-879b-a5d146a7947c"
      },
      "execution_count": null,
      "outputs": [
        {
          "output_type": "error",
          "ename": "RecursionError",
          "evalue": "maximum recursion depth exceeded",
          "traceback": [
            "\u001b[0;31m---------------------------------------------------------------------------\u001b[0m",
            "\u001b[0;31mRecursionError\u001b[0m                            Traceback (most recent call last)",
            "\u001b[0;32m<ipython-input-1-0db8d9fae4f4>\u001b[0m in \u001b[0;36m<cell line: 0>\u001b[0;34m()\u001b[0m\n\u001b[1;32m     48\u001b[0m     \u001b[0;32mreturn\u001b[0m \u001b[0mmemo\u001b[0m\u001b[0;34m[\u001b[0m\u001b[0mi\u001b[0m\u001b[0;34m]\u001b[0m\u001b[0;34m[\u001b[0m\u001b[0mj\u001b[0m\u001b[0;34m]\u001b[0m\u001b[0;34m\u001b[0m\u001b[0;34m\u001b[0m\u001b[0m\n\u001b[1;32m     49\u001b[0m \u001b[0;34m\u001b[0m\u001b[0m\n\u001b[0;32m---> 50\u001b[0;31m \u001b[0mdp\u001b[0m\u001b[0;34m(\u001b[0m\u001b[0ms1\u001b[0m\u001b[0;34m,\u001b[0m\u001b[0ms2\u001b[0m\u001b[0;34m,\u001b[0m \u001b[0mlen\u001b[0m\u001b[0;34m(\u001b[0m\u001b[0ms1\u001b[0m\u001b[0;34m)\u001b[0m\u001b[0;34m-\u001b[0m\u001b[0;36m1\u001b[0m\u001b[0;34m,\u001b[0m\u001b[0mlen\u001b[0m\u001b[0;34m(\u001b[0m\u001b[0ms2\u001b[0m\u001b[0;34m)\u001b[0m\u001b[0;34m-\u001b[0m\u001b[0;36m1\u001b[0m\u001b[0;34m,\u001b[0m\u001b[0mmemo\u001b[0m\u001b[0;34m,\u001b[0m \u001b[0;34m\"\"\u001b[0m\u001b[0;34m)\u001b[0m\u001b[0;34m\u001b[0m\u001b[0;34m\u001b[0m\u001b[0m\n\u001b[0m\u001b[1;32m     51\u001b[0m \u001b[0;34m\u001b[0m\u001b[0m\n\u001b[1;32m     52\u001b[0m \u001b[0;34m\u001b[0m\u001b[0m\n",
            "\u001b[0;32m<ipython-input-1-0db8d9fae4f4>\u001b[0m in \u001b[0;36mdp\u001b[0;34m(s1, s2, i, j, memo, sup)\u001b[0m\n\u001b[1;32m     32\u001b[0m         \u001b[0mmatched\u001b[0m \u001b[0;34m=\u001b[0m \u001b[0mdp\u001b[0m\u001b[0;34m(\u001b[0m\u001b[0ms1\u001b[0m\u001b[0;34m,\u001b[0m\u001b[0ms2\u001b[0m\u001b[0;34m,\u001b[0m\u001b[0mi\u001b[0m\u001b[0;34m,\u001b[0m\u001b[0mj\u001b[0m\u001b[0;34m,\u001b[0m\u001b[0mmemo\u001b[0m\u001b[0;34m,\u001b[0m\u001b[0msup\u001b[0m\u001b[0;34m)\u001b[0m\u001b[0;34m\u001b[0m\u001b[0;34m\u001b[0m\u001b[0m\n\u001b[1;32m     33\u001b[0m     \u001b[0;32melse\u001b[0m\u001b[0;34m:\u001b[0m\u001b[0;34m\u001b[0m\u001b[0;34m\u001b[0m\u001b[0m\n\u001b[0;32m---> 34\u001b[0;31m         \u001b[0mnotmatched1\u001b[0m \u001b[0;34m=\u001b[0m \u001b[0mdp\u001b[0m\u001b[0;34m(\u001b[0m\u001b[0ms1\u001b[0m\u001b[0;34m,\u001b[0m\u001b[0ms2\u001b[0m\u001b[0;34m,\u001b[0m\u001b[0mi\u001b[0m\u001b[0;34m-\u001b[0m\u001b[0;36m1\u001b[0m\u001b[0;34m,\u001b[0m\u001b[0mj\u001b[0m\u001b[0;34m,\u001b[0m \u001b[0mmemo\u001b[0m\u001b[0;34m,\u001b[0m \u001b[0msup\u001b[0m\u001b[0;34m)\u001b[0m\u001b[0;34m\u001b[0m\u001b[0;34m\u001b[0m\u001b[0m\n\u001b[0m\u001b[1;32m     35\u001b[0m         \u001b[0mnotmatched2\u001b[0m \u001b[0;34m=\u001b[0m \u001b[0mdp\u001b[0m\u001b[0;34m(\u001b[0m\u001b[0ms1\u001b[0m\u001b[0;34m,\u001b[0m\u001b[0ms2\u001b[0m\u001b[0;34m,\u001b[0m\u001b[0mi\u001b[0m\u001b[0;34m,\u001b[0m\u001b[0mj\u001b[0m\u001b[0;34m-\u001b[0m\u001b[0;36m1\u001b[0m\u001b[0;34m,\u001b[0m\u001b[0mmemo\u001b[0m\u001b[0;34m,\u001b[0m\u001b[0msup\u001b[0m\u001b[0;34m)\u001b[0m\u001b[0;34m\u001b[0m\u001b[0;34m\u001b[0m\u001b[0m\n\u001b[1;32m     36\u001b[0m \u001b[0;34m\u001b[0m\u001b[0m\n",
            "\u001b[0;32m<ipython-input-1-0db8d9fae4f4>\u001b[0m in \u001b[0;36mdp\u001b[0;34m(s1, s2, i, j, memo, sup)\u001b[0m\n\u001b[1;32m     30\u001b[0m     \u001b[0;32mif\u001b[0m\u001b[0;34m(\u001b[0m\u001b[0ms1\u001b[0m\u001b[0;34m[\u001b[0m\u001b[0mi\u001b[0m\u001b[0;34m]\u001b[0m \u001b[0;34m==\u001b[0m \u001b[0ms2\u001b[0m\u001b[0;34m[\u001b[0m\u001b[0mj\u001b[0m\u001b[0;34m]\u001b[0m\u001b[0;34m)\u001b[0m\u001b[0;34m:\u001b[0m\u001b[0;34m\u001b[0m\u001b[0;34m\u001b[0m\u001b[0m\n\u001b[1;32m     31\u001b[0m         \u001b[0msup\u001b[0m \u001b[0;34m=\u001b[0m \u001b[0msup\u001b[0m\u001b[0;34m+\u001b[0m\u001b[0ms1\u001b[0m\u001b[0;34m[\u001b[0m\u001b[0mi\u001b[0m\u001b[0;34m]\u001b[0m\u001b[0;34m\u001b[0m\u001b[0;34m\u001b[0m\u001b[0m\n\u001b[0;32m---> 32\u001b[0;31m         \u001b[0mmatched\u001b[0m \u001b[0;34m=\u001b[0m \u001b[0mdp\u001b[0m\u001b[0;34m(\u001b[0m\u001b[0ms1\u001b[0m\u001b[0;34m,\u001b[0m\u001b[0ms2\u001b[0m\u001b[0;34m,\u001b[0m\u001b[0mi\u001b[0m\u001b[0;34m,\u001b[0m\u001b[0mj\u001b[0m\u001b[0;34m,\u001b[0m\u001b[0mmemo\u001b[0m\u001b[0;34m,\u001b[0m\u001b[0msup\u001b[0m\u001b[0;34m)\u001b[0m\u001b[0;34m\u001b[0m\u001b[0;34m\u001b[0m\u001b[0m\n\u001b[0m\u001b[1;32m     33\u001b[0m     \u001b[0;32melse\u001b[0m\u001b[0;34m:\u001b[0m\u001b[0;34m\u001b[0m\u001b[0;34m\u001b[0m\u001b[0m\n\u001b[1;32m     34\u001b[0m         \u001b[0mnotmatched1\u001b[0m \u001b[0;34m=\u001b[0m \u001b[0mdp\u001b[0m\u001b[0;34m(\u001b[0m\u001b[0ms1\u001b[0m\u001b[0;34m,\u001b[0m\u001b[0ms2\u001b[0m\u001b[0;34m,\u001b[0m\u001b[0mi\u001b[0m\u001b[0;34m-\u001b[0m\u001b[0;36m1\u001b[0m\u001b[0;34m,\u001b[0m\u001b[0mj\u001b[0m\u001b[0;34m,\u001b[0m \u001b[0mmemo\u001b[0m\u001b[0;34m,\u001b[0m \u001b[0msup\u001b[0m\u001b[0;34m)\u001b[0m\u001b[0;34m\u001b[0m\u001b[0;34m\u001b[0m\u001b[0m\n",
            "... last 1 frames repeated, from the frame below ...\n",
            "\u001b[0;32m<ipython-input-1-0db8d9fae4f4>\u001b[0m in \u001b[0;36mdp\u001b[0;34m(s1, s2, i, j, memo, sup)\u001b[0m\n\u001b[1;32m     30\u001b[0m     \u001b[0;32mif\u001b[0m\u001b[0;34m(\u001b[0m\u001b[0ms1\u001b[0m\u001b[0;34m[\u001b[0m\u001b[0mi\u001b[0m\u001b[0;34m]\u001b[0m \u001b[0;34m==\u001b[0m \u001b[0ms2\u001b[0m\u001b[0;34m[\u001b[0m\u001b[0mj\u001b[0m\u001b[0;34m]\u001b[0m\u001b[0;34m)\u001b[0m\u001b[0;34m:\u001b[0m\u001b[0;34m\u001b[0m\u001b[0;34m\u001b[0m\u001b[0m\n\u001b[1;32m     31\u001b[0m         \u001b[0msup\u001b[0m \u001b[0;34m=\u001b[0m \u001b[0msup\u001b[0m\u001b[0;34m+\u001b[0m\u001b[0ms1\u001b[0m\u001b[0;34m[\u001b[0m\u001b[0mi\u001b[0m\u001b[0;34m]\u001b[0m\u001b[0;34m\u001b[0m\u001b[0;34m\u001b[0m\u001b[0m\n\u001b[0;32m---> 32\u001b[0;31m         \u001b[0mmatched\u001b[0m \u001b[0;34m=\u001b[0m \u001b[0mdp\u001b[0m\u001b[0;34m(\u001b[0m\u001b[0ms1\u001b[0m\u001b[0;34m,\u001b[0m\u001b[0ms2\u001b[0m\u001b[0;34m,\u001b[0m\u001b[0mi\u001b[0m\u001b[0;34m,\u001b[0m\u001b[0mj\u001b[0m\u001b[0;34m,\u001b[0m\u001b[0mmemo\u001b[0m\u001b[0;34m,\u001b[0m\u001b[0msup\u001b[0m\u001b[0;34m)\u001b[0m\u001b[0;34m\u001b[0m\u001b[0;34m\u001b[0m\u001b[0m\n\u001b[0m\u001b[1;32m     33\u001b[0m     \u001b[0;32melse\u001b[0m\u001b[0;34m:\u001b[0m\u001b[0;34m\u001b[0m\u001b[0;34m\u001b[0m\u001b[0m\n\u001b[1;32m     34\u001b[0m         \u001b[0mnotmatched1\u001b[0m \u001b[0;34m=\u001b[0m \u001b[0mdp\u001b[0m\u001b[0;34m(\u001b[0m\u001b[0ms1\u001b[0m\u001b[0;34m,\u001b[0m\u001b[0ms2\u001b[0m\u001b[0;34m,\u001b[0m\u001b[0mi\u001b[0m\u001b[0;34m-\u001b[0m\u001b[0;36m1\u001b[0m\u001b[0;34m,\u001b[0m\u001b[0mj\u001b[0m\u001b[0;34m,\u001b[0m \u001b[0mmemo\u001b[0m\u001b[0;34m,\u001b[0m \u001b[0msup\u001b[0m\u001b[0;34m)\u001b[0m\u001b[0;34m\u001b[0m\u001b[0;34m\u001b[0m\u001b[0m\n",
            "\u001b[0;31mRecursionError\u001b[0m: maximum recursion depth exceeded"
          ]
        }
      ]
    },
    {
      "cell_type": "code",
      "source": [
        "#Leet code hard\n",
        "#Distinct Subsequences\n",
        "\n",
        "s1 = \"babgbag\"\n",
        "s2 = \"bag\"\n",
        "\n",
        "def dp(s1,s2, i, j, memo):\n",
        "    #Base Condition\n",
        "    if j < 0:\n",
        "        return 1\n",
        "    if i <0:\n",
        "        return 0\n",
        "    if memo[i][j] != -1:\n",
        "        return memo[i][j]\n",
        "    #Operations\n",
        "    if(s1[i]==s2[j]):\n",
        "        memo[i][j] = dp(s1,s2,i-1,j-1,memo) + dp(s1,s2,i-1,j,memo)\n",
        "        return memo[i][j]\n",
        "\n",
        "    else:\n",
        "        memo[i][j] = dp(s1,s2,i-1,j,memo)\n",
        "        return memo[i][j]\n",
        "\n",
        "\n",
        "memo = [[-1 for i in range(len(s2))] for i in range(len(s1))]\n",
        "dp(s1,s2, len(s1)-1, len(s2)-1, memo)"
      ],
      "metadata": {
        "colab": {
          "base_uri": "https://localhost:8080/"
        },
        "id": "vPDmW0CO38-T",
        "outputId": "659e701d-0fc2-4a5c-f3b4-982dc1566aa7"
      },
      "execution_count": null,
      "outputs": [
        {
          "output_type": "execute_result",
          "data": {
            "text/plain": [
              "5"
            ]
          },
          "metadata": {},
          "execution_count": 4
        }
      ]
    },
    {
      "cell_type": "code",
      "source": [
        "#Edit Distance\n",
        "\n",
        "s1 = \"horse\"\n",
        "\n",
        "s2 = \"ros\"\n",
        "\n",
        "# we can Insert, Remove, Replace\n",
        "#Minimum number of steps to convert s1 to s2\n",
        "def dp(s1,s2,i,j,memo):\n",
        "    #Base Condition\n",
        "    if j<0:\n",
        "        return i+1\n",
        "    if i<0:\n",
        "        return j+1\n",
        "    if memo[i][j] != -1:\n",
        "        return memo[i][j]\n",
        "    #Operations\n",
        "    matched = float('inf')\n",
        "    inserted = float('inf')\n",
        "    deleted = float('inf')\n",
        "    if(s1[i]==s2[j]):\n",
        "        matched = dp(s1,s2,i-1,j-1,memo)\n",
        "    else:\n",
        "        inserted = 1 + dp(s1,s2,i,j-1,memo)\n",
        "        deleted = 1 + dp(s1,s2,i-1,j,memo)\n",
        "\n",
        "    minval = min(matched,inserted, deleted)\n",
        "    #Implement memo\n",
        "    memo[i][j] = minval\n",
        "    return minval\n",
        "\n",
        "memo = [[-1 for i in range(len(s2))] for i in range(len(s1))]\n",
        "\n",
        "dp(s1,s2,len(s1)-1,len(s2)-1,memo)\n"
      ],
      "metadata": {
        "colab": {
          "base_uri": "https://localhost:8080/"
        },
        "id": "-8XCM6XV7jfI",
        "outputId": "d7c2bd56-89e5-4a9b-926a-10e8707b3f03"
      },
      "execution_count": null,
      "outputs": [
        {
          "output_type": "execute_result",
          "data": {
            "text/plain": [
              "4"
            ]
          },
          "metadata": {},
          "execution_count": 10
        }
      ]
    },
    {
      "cell_type": "code",
      "source": [
        "# Best Time to Buy and Sell Stock\n",
        "\n",
        "arr_one = [7,1,5,3,6,3,4]\n",
        "\n",
        "#Profit has to be maximum\n",
        "#THis problem can be approached by keeping track of minimum in the previous\n",
        "\n",
        "minimum = arr_one[0]\n",
        "max_profit = 0\n",
        "\n",
        "for i in range(1, len(arr_one)):\n",
        "    max_profit = max(max_profit, arr_one[i]-minimum)\n",
        "    minimum = min(minimum, arr_one[i])\n",
        "print(max_profit)\n",
        "\n",
        "\n",
        "\n"
      ],
      "metadata": {
        "colab": {
          "base_uri": "https://localhost:8080/"
        },
        "id": "Y2m0n-srHMKe",
        "outputId": "12860bec-9698-4003-e2ce-1424a1938f2f"
      },
      "execution_count": null,
      "outputs": [
        {
          "output_type": "stream",
          "name": "stdout",
          "text": [
            "5\n"
          ]
        }
      ]
    }
  ]
}