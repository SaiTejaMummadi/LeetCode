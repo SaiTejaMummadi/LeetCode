{
  "nbformat": 4,
  "nbformat_minor": 0,
  "metadata": {
    "colab": {
      "provenance": []
    },
    "kernelspec": {
      "name": "python3",
      "display_name": "Python 3"
    },
    "language_info": {
      "name": "python"
    }
  },
  "cells": [
    {
      "cell_type": "code",
      "execution_count": null,
      "metadata": {
        "colab": {
          "base_uri": "https://localhost:8080/"
        },
        "id": "VxwaXUYggbwt",
        "outputId": "74bbe844-e4d2-45a3-bac4-fb96ae8e6b7c"
      },
      "outputs": [
        {
          "output_type": "execute_result",
          "data": {
            "text/plain": [
              "5"
            ]
          },
          "metadata": {},
          "execution_count": 4
        }
      ],
      "source": [
        "# Fibonacci numbers\n",
        "\n",
        "#find fibonacci number with a memoization table\n",
        "#top down\n",
        "def fib(n, memo):\n",
        "    if n<=1:\n",
        "        return n\n",
        "    if n in memo:\n",
        "        return memo[n]\n",
        "    ans = fib(n-1, memo) + fib(n-2, memo)\n",
        "    memo[n] = ans\n",
        "    return memo[n]\n",
        "memo = {}\n",
        "fib(6, memo)\n",
        "\n",
        "#bottom up\n",
        "def fib(n):\n",
        "    memo = {}\n",
        "    memo[0] = 0\n",
        "    memo [1] = 1\n",
        "    for i in range(2,n+1):\n",
        "        memo[i] = memo[i-1] + memo[i-2]\n",
        "    return memo[n]\n",
        "fib(5)\n",
        "\n",
        "\n"
      ]
    },
    {
      "cell_type": "code",
      "source": [
        "# Climbing stairs\n",
        "#Can take one step or can take two steps\n",
        "#find the different possible ways to reach a step\n",
        "#for example,\n",
        "# 3 -> 1,1,1\n",
        "# 3 -> 1,2\n",
        "# 3 -> 2,1\n",
        "#top down\n",
        "def climbing(n, memo):\n",
        "    if n == 0:\n",
        "        return 1\n",
        "    if n == 2:\n",
        "        return 2\n",
        "    if n == 1:\n",
        "        return 1\n",
        "    if n in memo:\n",
        "        return memo[n]\n",
        "    steps = climbing(n-1, memo) + climbing(n-2, memo)\n",
        "    memo[n] = steps\n",
        "    return memo[n]\n",
        "memo = {}\n",
        "print(climbing(5,memo))\n",
        "\n",
        "#bottom up\n",
        "def climbing(n):\n",
        "    memo= {}\n",
        "    memo[0] = 1\n",
        "    memo[1] = 1\n",
        "    memo[2] = 2\n",
        "    for i in range(3, n+1):\n",
        "        memo[i] = memo[i-1] + memo[i-2]\n",
        "    return memo[n]\n",
        "climbing(5)\n",
        "\n",
        "\n",
        "\n"
      ],
      "metadata": {
        "colab": {
          "base_uri": "https://localhost:8080/"
        },
        "id": "TxmTZCMWjvx1",
        "outputId": "fa696da8-3b05-402d-95e2-e36a14f4a812"
      },
      "execution_count": null,
      "outputs": [
        {
          "output_type": "stream",
          "name": "stdout",
          "text": [
            "8\n"
          ]
        },
        {
          "output_type": "execute_result",
          "data": {
            "text/plain": [
              "8"
            ]
          },
          "metadata": {},
          "execution_count": 14
        }
      ]
    },
    {
      "cell_type": "code",
      "source": [
        "#Frog Jump Problem\n",
        "# a frog can jump over the steps, but each step has an energy consumed value,\n",
        "#Frog can jump one step or two steps\n",
        "#find the minimum energy required to reach certain length\n",
        "\n",
        "#Top down\n",
        "\n",
        "memo = {}\n",
        "heights = [10,30,20,40,20]\n",
        "def frogjump(n, memo, heights):\n",
        "    if n ==0:\n",
        "        return heights[0]\n",
        "    if n in memo:\n",
        "        return memo[n]\n",
        "    single_jump = frogjump(n-1, memo, heights) + heights[n]\n",
        "    double_jump = float('inf')\n",
        "    if n >1:\n",
        "        double_jump = frogjump(n-2, memo, heights) + heights[n]\n",
        "    optimal_jump = min(single_jump, double_jump)\n",
        "    memo[n] = optimal_jump\n",
        "    return memo[n]\n",
        "frogjump(3, memo, heights)\n"
      ],
      "metadata": {
        "colab": {
          "base_uri": "https://localhost:8080/"
        },
        "id": "_QeG6_wtn5oM",
        "outputId": "96ff46d0-e0e4-44d7-f747-c64bea6fa026"
      },
      "execution_count": null,
      "outputs": [
        {
          "output_type": "execute_result",
          "data": {
            "text/plain": [
              "70"
            ]
          },
          "metadata": {},
          "execution_count": 18
        }
      ]
    },
    {
      "cell_type": "code",
      "source": [],
      "metadata": {
        "id": "d-YsOrW3oOJW"
      },
      "execution_count": null,
      "outputs": []
    },
    {
      "cell_type": "code",
      "source": [],
      "metadata": {
        "id": "M8lgXycaoOGQ"
      },
      "execution_count": null,
      "outputs": []
    },
    {
      "cell_type": "code",
      "source": [],
      "metadata": {
        "id": "5p_AgDN_oODi"
      },
      "execution_count": null,
      "outputs": []
    },
    {
      "cell_type": "code",
      "source": [],
      "metadata": {
        "id": "AUEeQZVYoOBD"
      },
      "execution_count": null,
      "outputs": []
    },
    {
      "cell_type": "code",
      "source": [],
      "metadata": {
        "id": "4Du9OJByoN70"
      },
      "execution_count": null,
      "outputs": []
    },
    {
      "cell_type": "code",
      "source": [],
      "metadata": {
        "id": "tpohtgi2oN5K"
      },
      "execution_count": null,
      "outputs": []
    },
    {
      "cell_type": "code",
      "source": [],
      "metadata": {
        "id": "p0jN9EaJoN25"
      },
      "execution_count": null,
      "outputs": []
    },
    {
      "cell_type": "code",
      "source": [],
      "metadata": {
        "id": "b4QKwBgXoN0o"
      },
      "execution_count": null,
      "outputs": []
    },
    {
      "cell_type": "code",
      "source": [],
      "metadata": {
        "id": "q1UTvRrjoNyW"
      },
      "execution_count": null,
      "outputs": []
    },
    {
      "cell_type": "code",
      "source": [],
      "metadata": {
        "id": "BmcYGk4ooNwK"
      },
      "execution_count": null,
      "outputs": []
    },
    {
      "cell_type": "code",
      "source": [],
      "metadata": {
        "id": "Yn5XNVJsoNtq"
      },
      "execution_count": null,
      "outputs": []
    },
    {
      "cell_type": "code",
      "source": [],
      "metadata": {
        "id": "fjbUAnehoNrT"
      },
      "execution_count": null,
      "outputs": []
    }
  ]
}